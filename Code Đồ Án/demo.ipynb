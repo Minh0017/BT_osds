{
 "cells": [
  {
   "cell_type": "code",
   "execution_count": 1,
   "metadata": {},
   "outputs": [],
   "source": [
    "from selenium import webdriver\n",
    "from selenium.webdriver.common.by import By\n",
    "from pymongo import MongoClient\n",
    "import time\n",
    "import re"
   ]
  },
  {
   "cell_type": "code",
   "execution_count": 2,
   "metadata": {},
   "outputs": [],
   "source": [
    "# Kết nối MongoDB\n",
    "client = MongoClient(\"mongodb://localhost:27017/\")\n",
    "client.drop_database('pharmacity')\n",
    "db = client['pharmacity']"
   ]
  },
  {
   "cell_type": "code",
   "execution_count": 3,
   "metadata": {},
   "outputs": [],
   "source": [
    "\n",
    "products_collection = db['products']\n",
    "sales_collection = db['sales']\n"
   ]
  },
  {
   "cell_type": "code",
   "execution_count": 4,
   "metadata": {},
   "outputs": [],
   "source": [
    "\n",
    "# Khởi tạo WebDriver cho Firefox\n",
    "driver = webdriver.Chrome()\n",
    "\n",
    "# Truy cập vào trang dược phẩm\n",
    "driver.get(\"https://www.pharmacity.vn/duoc-pham\")\n",
    "\n",
    "# Đợi trang tải\n",
    "time.sleep(3)"
   ]
  },
  {
   "cell_type": "code",
   "execution_count": 5,
   "metadata": {},
   "outputs": [
    {
     "name": "stdout",
     "output_type": "stream",
     "text": [
      "Đã lưu: Acritel 10g (Hộp 6 vỉ x 10 viên)\n",
      "Đã lưu: AtiSalbu 2mg (30 ống x 5ml/hộp)\n",
      "Đã lưu: N/A\n",
      "Đã lưu hết dược phẩm!\n"
     ]
    }
   ],
   "source": [
    "# Hàm cào dữ liệu từng sản phẩm\n",
    "def scrape_product(product_link):\n",
    "    # Mở link sản phẩm\n",
    "    driver.get(product_link)\n",
    "    time.sleep(2)\n",
    "\n",
    "    # Lấy mã sản phẩm\n",
    "    try:\n",
    "        product_code = driver.find_element(By.CSS_SELECTOR, \"p.text-sm.leading-5.text-neutral-600\").text\n",
    "    except:\n",
    "        product_code = \"N/A\"\n",
    "\n",
    "    # Lấy tên sản phẩm\n",
    "    try:\n",
    "        product_name = driver.find_element(By.CSS_SELECTOR, \"h1.text-neutral-900.font-semibold\").text\n",
    "    except:\n",
    "        product_name = \"N/A\"\n",
    "\n",
    "    try:\n",
    "        product_img = driver.find_element(By.XPATH,\n",
    "                                          '//*[@id=\"mainContent\"]/div/div[1]/div[3]/div[1]/div[1]/div[1]/div/div[1]/div/div/div[1]/div/img').get_attribute(\n",
    "            'src')\n",
    "    except:\n",
    "        product_img = \"N/A\"\n",
    "\n",
    "    # Lấy thương hiệu\n",
    "    try:\n",
    "        product_brand = driver.find_element(By.CSS_SELECTOR,\n",
    "                                            '#mainContent > div > div:nth-child(1) > div.relative.grid.grid-cols-1.gap-6.md\\\\:container.md\\\\:grid-cols-\\\\[min\\\\(60\\\\%\\\\,calc\\\\(555rem\\\\/16\\\\)\\\\)\\\\,1fr\\\\].md\\\\:pt-6.lg\\\\:grid-cols-\\\\[min\\\\(72\\\\%\\\\,calc\\\\(888rem\\\\/16\\\\)\\\\)\\\\,1fr\\\\] > div.grid.md\\\\:gap-6 > div.grid.grid-cols-1.items-start.md\\\\:gap-6.lg\\\\:grid-cols-2.xl\\\\:grid-cols-2 > div:nth-child(2) > div > div.flex.flex-col.px-4.md\\\\:px-0 > div.gap-3.md\\\\:gap-4.mb-3.grid.md\\\\:mb-4 > div.grid.gap-3.md\\\\:gap-2 > div:nth-child(5) > div').text\n",
    "    except:\n",
    "        product_brand = \"N/A\"\n",
    "\n",
    "    # Lấy nơi sản xuất\n",
    "    try:\n",
    "        product_origin = driver.find_element(By.XPATH, '//*[@id=\"mainContent\"]/div/div[1]/div[3]/div[1]/div[1]/div[2]/div/div[3]/div[2]/div/a').text\n",
    "    except:\n",
    "        product_origin = \"N/A\"\n",
    "\n",
    "    # Lấy giá bán\n",
    "    try:\n",
    "        product_price = driver.find_element(By.TAG_NAME, 'h3').text\n",
    "        # Sử dụng regex để loại bỏ các ký tự không phải số và dấu phân cách thập phân\n",
    "        # Giữ lại số và dấu chấm (.)\n",
    "        cleaned_price_str = re.sub(r'[^\\d.]', '', product_price)\n",
    "        product_price = float(cleaned_price_str) * 1000\n",
    "    except:\n",
    "        product_price = \"N/A\"\n",
    "\n",
    "    # Lấy lượt yêu thích (nếu có)\n",
    "    try:\n",
    "        product_likes = driver.find_element(By.CSS_SELECTOR, 'div.space-x-1:nth-child(2) > p:nth-child(1)').text\n",
    "        cleaned_likes_str = re.sub(r'[^\\d.]', '', product_likes)\n",
    "        product_likes = float(cleaned_likes_str) * 1000\n",
    "    except:\n",
    "        product_likes = \"N/A\"\n",
    "\n",
    "    # Lấy số lượng bán (nếu có)\n",
    "    try:\n",
    "        product_sold = driver.find_element(By.CSS_SELECTOR, 'p.text-sm:nth-child(3)').text\n",
    "        cleaned_sold_str = re.sub(r'[^\\d.]', '', product_sold)\n",
    "        product_sold = float(cleaned_sold_str) * 1000\n",
    "    except:\n",
    "        product_sold = \"N/A\"\n",
    "\n",
    "    try:\n",
    "        product_type = driver.find_element(By.CSS_SELECTOR, \"div.md\\\\:text-base\").text\n",
    "    except:\n",
    "        product_type = \"N/A\"\n",
    "\n",
    "    # Tạo từ điển lưu thông tin sản phẩm\n",
    "    product_data = {\n",
    "        \"Product_ID\": product_code,\n",
    "        \"Product_Name\": product_name,\n",
    "        \"Type\": product_type,\n",
    "        \"Img\": product_img,\n",
    "        \"Brand\": product_brand,\n",
    "        \"Prpduct_origin\": product_origin,\n",
    "        \"Price\": product_price,\n",
    "        \"Link\": product_link\n",
    "    }\n",
    "    sale_data = {\n",
    "        \"Product_ID\": product_code,\n",
    "        \"Product_Name\": product_name,\n",
    "        \"Likes\": product_likes,\n",
    "        \"Sold\": product_sold\n",
    "    }\n",
    "\n",
    "    # Lưu vào MongoDB\n",
    "    products_collection.insert_one(product_data)\n",
    "    sales_collection.insert_one(sale_data)\n",
    "    print(f\"Đã lưu: {product_name}\")\n",
    "\n",
    "\n",
    "# # Hàm nhấn nút \"Xem thêm\" để tải thêm sản phẩm\n",
    "# def load_more_products():\n",
    "#     try:\n",
    "#         load_more_button = driver.find_element(By.XPATH, \"//button[contains(text(), 'Xem thêm')]\")\n",
    "#         load_more_button.click()\n",
    "#         time.sleep(3)  # Đợi trang tải thêm sản phẩm\n",
    "#     except:\n",
    "#         print(\"Không còn sản phẩm để tải thêm.\")\n",
    "#\n",
    "# # Hàm cuộn trang xuống cuối để tải thêm sản phẩm\n",
    "# def scroll_down():\n",
    "#     driver.execute_script(\"window.scrollTo(0, document.body.scrollHeight);\")\n",
    "#     time.sleep(2)\n",
    "\n",
    "\n",
    "# Lấy danh sách link sản phẩm\n",
    "def get_product_links():\n",
    "    product_links = []\n",
    "    products = driver.find_elements(By.CSS_SELECTOR, \"a:has(h3.line-clamp-2.h-10.text-sm.font-semibold)\")\n",
    "    for product in products:\n",
    "        product_link = product.get_attribute(\"href\")\n",
    "        product_links.append(product_link)\n",
    "    return product_links\n",
    "\n",
    "\n",
    "# Cào dữ liệu từ trang web\n",
    "while True:\n",
    "    try:\n",
    "        # Lấy danh sách link sản phẩm trên trang\n",
    "        links = get_product_links()\n",
    "\n",
    "        # Cào dữ liệu từng sản phẩm\n",
    "        for link in links:\n",
    "            scrape_product(link)\n",
    "    except:\n",
    "        print(\"Đã lưu hết dược phẩm!\")\n",
    "        break"
   ]
  },
  {
   "cell_type": "markdown",
   "metadata": {},
   "source": [
    "## đóng driver"
   ]
  },
  {
   "cell_type": "code",
   "execution_count": 6,
   "metadata": {},
   "outputs": [],
   "source": [
    "driver.quit()"
   ]
  },
  {
   "cell_type": "code",
   "execution_count": 7,
   "metadata": {},
   "outputs": [],
   "source": [
    "client = MongoClient(\"mongodb://localhost:27017/\")\n",
    "db = client['pharmacityDB']\n",
    "products_collection = db['products']\n",
    "sales_collection = db['sales']\n",
    "products_detail = db['details']"
   ]
  },
  {
   "cell_type": "code",
   "execution_count": 8,
   "metadata": {},
   "outputs": [
    {
     "name": "stdout",
     "output_type": "stream",
     "text": [
      "Tổng số sản phẩm trong products là: 0\n",
      "\n",
      "\n"
     ]
    }
   ],
   "source": [
    "\n",
    "# 1.Hiện tất cả các sản phẩm và số lượng sản phẩm trong collection 'products'\n",
    "for product in db.products.find():\n",
    "    print(product)\n",
    "sl = db.products.count_documents({})\n",
    "print(f'Tổng số sản phẩm trong products là: {sl}')\n",
    "print('\\n')"
   ]
  },
  {
   "cell_type": "code",
   "execution_count": 9,
   "metadata": {},
   "outputs": [
    {
     "name": "stdout",
     "output_type": "stream",
     "text": [
      "Thuốc không kê đơn có giá cao nhất:\n",
      "\n",
      "\n"
     ]
    }
   ],
   "source": [
    "# 2.Tìm sản phẩm không kê đơn có giá cao nhất\n",
    "highest_price = db.products.find({\"Type\": \"Thuốc không kê đơn\", \"Price\": {\"$ne\": \"N/A\"}}).sort(\"Price\", -1).limit(1)\n",
    "print(\"Thuốc không kê đơn có giá cao nhất:\")\n",
    "for product in highest_price:\n",
    "    print(product)\n",
    "print('\\n')"
   ]
  },
  {
   "cell_type": "code",
   "execution_count": 10,
   "metadata": {},
   "outputs": [
    {
     "name": "stdout",
     "output_type": "stream",
     "text": [
      "Thuốc không kê đơn có giá thấp nhất:\n",
      "\n",
      "\n"
     ]
    }
   ],
   "source": [
    "# 3.Tìm sản phẩm không kê đơn có giá thấp nhất\n",
    "lowest_price = db.products.find({\"Type\": \"Thuốc không kê đơn\"}).sort(\"Price\", 1).limit(1)\n",
    "print(\"Thuốc không kê đơn có giá thấp nhất:\")\n",
    "for product in lowest_price:\n",
    "    print(product)\n",
    "print('\\n')"
   ]
  },
  {
   "cell_type": "code",
   "execution_count": 11,
   "metadata": {},
   "outputs": [
    {
     "name": "stdout",
     "output_type": "stream",
     "text": [
      "\n",
      "\n"
     ]
    }
   ],
   "source": [
    "# 4.Lấy sản phẩm có thành phần hoạt tính chứa \"Levocetirizin\"\n",
    "timhoattinh = db.details.find({\"Active_element\": {\"$regex\": \"Levocetirizin\", \"$options\": \"i\"}})\n",
    "for tim in timhoattinh:\n",
    "    print(f'Thuốc có hoạt tính Levocetirizin là {tim}')\n",
    "print('\\n')"
   ]
  },
  {
   "cell_type": "code",
   "execution_count": 12,
   "metadata": {},
   "outputs": [
    {
     "name": "stdout",
     "output_type": "stream",
     "text": [
      "Tổn số sản phẩm đến từ VN là 0\n",
      "\n",
      "\n"
     ]
    }
   ],
   "source": [
    "# 5.Đếm số sản phẩm có nguồn gốc từ \"Việt Nam\"\n",
    "fromVN = db.details.count_documents({\"Product_origin\": \"Việt Nam\"})\n",
    "print(f'Tổn số sản phẩm đến từ VN là {fromVN}')\n",
    "print('\\n')"
   ]
  },
  {
   "cell_type": "code",
   "execution_count": 13,
   "metadata": {},
   "outputs": [
    {
     "name": "stdout",
     "output_type": "stream",
     "text": [
      "Tổn số sản phẩm không đến từ VN là 0\n",
      "\n",
      "\n"
     ]
    }
   ],
   "source": [
    "# 6.Đếm số sản phẩm không có nguồn gốc từ \"Việt Nam\"\n",
    "notfromVN = db.details.count_documents({\"Product_origin\": {\"$ne\":\"Việt Nam\"}})\n",
    "print(f'Tổn số sản phẩm không đến từ VN là {notfromVN}')\n",
    "print('\\n')"
   ]
  },
  {
   "cell_type": "code",
   "execution_count": 14,
   "metadata": {},
   "outputs": [
    {
     "name": "stdout",
     "output_type": "stream",
     "text": [
      "Sản phẩm có giá bán hơn 100k:\n",
      "\n",
      "\n"
     ]
    }
   ],
   "source": [
    "# 7.Tìm sản phẩm có giá bán hơn 100k\n",
    "print('Sản phẩm có giá bán hơn 100k:')\n",
    "for p in db.products.find({\"Price\": {\"$gt\": 100000}}):\n",
    "    print(p)\n",
    "print('\\n')"
   ]
  },
  {
   "cell_type": "code",
   "execution_count": 15,
   "metadata": {},
   "outputs": [
    {
     "name": "stdout",
     "output_type": "stream",
     "text": [
      "Sản phẩm có số lượng bán hơn 5000:\n",
      "\n",
      "\n"
     ]
    }
   ],
   "source": [
    "# 8.Tìm sản phẩm có số lượng bán hơn 5000\n",
    "print('Sản phẩm có số lượng bán hơn 5000:')\n",
    "for p in db.sales.find({\"Sold\": {\"$gt\": 5000}}):\n",
    "    print(p)\n",
    "print('\\n')"
   ]
  },
  {
   "cell_type": "code",
   "execution_count": 16,
   "metadata": {},
   "outputs": [
    {
     "name": "stdout",
     "output_type": "stream",
     "text": [
      "Thông tin chi tiết sản phẩm: \n",
      "\n",
      "\n"
     ]
    }
   ],
   "source": [
    "# 9.Lấy thông tin chi tiết sản phẩm và với thông tin bán hàng\n",
    "product_sales_details = db.sales.aggregate([\n",
    "    {\n",
    "        \"$lookup\": {\n",
    "            \"from\": \"products\",\n",
    "            \"localField\": \"Product_ID\",\n",
    "            \"foreignField\": \"Product_ID\",\n",
    "            \"as\": \"product_info\"\n",
    "        }\n",
    "    }\n",
    "])\n",
    "print('Thông tin chi tiết sản phẩm: ')\n",
    "for p in product_sales_details:\n",
    "    print(p)\n",
    "print('\\n')"
   ]
  },
  {
   "cell_type": "code",
   "execution_count": 17,
   "metadata": {},
   "outputs": [
    {
     "name": "stdout",
     "output_type": "stream",
     "text": [
      "Sản phẩm có tên chứa từ khóa Eagle: \n",
      "\n",
      "\n"
     ]
    }
   ],
   "source": [
    "# 10.Tìm sản phẩm có tên chứa từ khóa Eagle\n",
    "print('Sản phẩm có tên chứa từ khóa Eagle: ')\n",
    "for p in db.products.find({\"Product_Name\": {\"$regex\": \"Eagle\"}}):\n",
    "    print(p)\n",
    "print('\\n')"
   ]
  },
  {
   "cell_type": "code",
   "execution_count": 18,
   "metadata": {},
   "outputs": [
    {
     "name": "stdout",
     "output_type": "stream",
     "text": [
      "Sản phẩm có ID P14941 là: \tNone\n",
      "\n",
      "\n"
     ]
    }
   ],
   "source": [
    "# 11. Tìm sản phẩm theo Product_ID\n",
    "product = db.products.find_one({\"Product_ID\": \"P14941\"})\n",
    "print(f'Sản phẩm có ID P14941 là: \\t{product}')\n",
    "print('\\n')"
   ]
  },
  {
   "cell_type": "code",
   "execution_count": 19,
   "metadata": {},
   "outputs": [
    {
     "name": "stdout",
     "output_type": "stream",
     "text": [
      "Sản phẩm có lượt thích thấp nhất là:\n",
      "\n",
      "\n"
     ]
    }
   ],
   "source": [
    "# 12.Tìm sản phẩm có số lượt thích thấp nhất và trả về tên, giá bán, like só lượng bán ra sản phẩm\n",
    "lowest = db.sales.aggregate([{\n",
    "        \"$lookup\": {\n",
    "            \"from\": \"products\",\n",
    "            \"localField\": \"Product_ID\",\n",
    "            \"foreignField\": \"Product_ID\",\n",
    "            \"as\": \"product_info\"\n",
    "        }},\n",
    "    {\n",
    "        \"$unwind\": \"$product_info\"},{\"$sort\": {\"Likes\": 1}},{\"$limit\": 1},\n",
    "    {\n",
    "        \"$project\": {\n",
    "            \"Product_Name\": \"$product_info.Product_Name\",\n",
    "            \"Price\": \"$product_info.Price\",\n",
    "            \"Likes\": \"$Likes\",\n",
    "            \"Sold\": \"$Sold\"\n",
    "        }\n",
    "    }\n",
    "])\n",
    "print('Sản phẩm có lượt thích thấp nhất là:')\n",
    "for product in lowest:\n",
    "    print(product)\n",
    "print('\\n')"
   ]
  },
  {
   "cell_type": "code",
   "execution_count": 20,
   "metadata": {},
   "outputs": [
    {
     "name": "stdout",
     "output_type": "stream",
     "text": [
      "Sản phẩm có lượt thích cao nhất là:\n",
      "\n",
      "\n"
     ]
    }
   ],
   "source": [
    "# 13.Tìm sản phẩm có số lượt thích cao nhất và trả về tên, giá bán, like só lượng bán ra sản phẩm\n",
    "highest = db.sales.aggregate([\n",
    "    {\n",
    "        \"$lookup\": {\n",
    "            \"from\": \"products\",\n",
    "            \"localField\": \"Product_ID\",\n",
    "            \"foreignField\": \"Product_ID\",\n",
    "            \"as\": \"product_info\"}},\n",
    "    {\"$unwind\": \"$product_info\"},\n",
    "    {\"$match\": {\"Likes\": {\"$ne\": \"N/A\"}} },\n",
    "    {\"$sort\": {\"Likes\": -1}},\n",
    "    {\"$limit\": 1  },\n",
    "    {\"$project\": {\n",
    "            \"Product_Name\": \"$product_info.Product_Name\",\n",
    "            \"Price\": \"$product_info.Price\",\n",
    "            \"Likes\": \"$Likes\",\n",
    "            \"Sold\": \"$Sold\"\n",
    "        }}\n",
    "])\n",
    "print('Sản phẩm có lượt thích cao nhất là:')\n",
    "for product in highest:\n",
    "    print(product)\n",
    "print('\\n')"
   ]
  },
  {
   "cell_type": "code",
   "execution_count": 21,
   "metadata": {},
   "outputs": [
    {
     "name": "stdout",
     "output_type": "stream",
     "text": [
      "\n",
      "\n"
     ]
    }
   ],
   "source": [
    "# 14.Tính tổng số lượng sản phẩm bán được từ collection 'sales'\n",
    "sold_c = db.sales.aggregate([{\"$group\": {\"_id\": None,\n",
    "                                         \"Tổng số thuốc không kê đơn bán ra là:\": {\"$sum\": \"$Sold\"}}}])\n",
    "for c in sold_c:\n",
    "    print(c)\n",
    "print('\\n')"
   ]
  },
  {
   "cell_type": "code",
   "execution_count": 22,
   "metadata": {},
   "outputs": [],
   "source": [
    "# 15.Tính tổng số tiền bán thuốc không kê đơn\n",
    "total_sales = db.sales.aggregate([\n",
    "    {\n",
    "        \"$lookup\": {\n",
    "            \"from\": \"products\",\n",
    "            \"localField\": \"Product_ID\",\n",
    "            \"foreignField\": \"Product_ID\",\n",
    "            \"as\": \"product_info\"}},\n",
    "    {\"$unwind\": \"$product_info\"},\n",
    "    {\"$match\": {\"product_info.Type\": \"Thuốc không kê đơn\", \"product_info.Price\": {\"$ne\": \"N/A\"}},},\n",
    "    {\"$group\": {\n",
    "            \"_id\": None,\n",
    "            \"Tổng số tiền bán thuốc không kê đơn là\": {\"$sum\":\n",
    "                                                           {\"$multiply\": [\"$Sold\", \"$product_info.Price\"]}}\n",
    "        }}\n",
    "])\n",
    "for s in total_sales:\n",
    "    print(s)"
   ]
  },
  {
   "cell_type": "markdown",
   "metadata": {},
   "source": [
    "## đóng close dbs"
   ]
  },
  {
   "cell_type": "code",
   "execution_count": 23,
   "metadata": {},
   "outputs": [],
   "source": [
    "client.close()"
   ]
  }
 ],
 "metadata": {
  "kernelspec": {
   "display_name": "Python 3",
   "language": "python",
   "name": "python3"
  },
  "language_info": {
   "codemirror_mode": {
    "name": "ipython",
    "version": 3
   },
   "file_extension": ".py",
   "mimetype": "text/x-python",
   "name": "python",
   "nbconvert_exporter": "python",
   "pygments_lexer": "ipython3",
   "version": "3.12.6"
  }
 },
 "nbformat": 4,
 "nbformat_minor": 2
}
