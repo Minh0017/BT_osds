{
 "cells": [
  {
   "cell_type": "code",
   "execution_count": 7,
   "metadata": {},
   "outputs": [
    {
     "name": "stdout",
     "output_type": "stream",
     "text": [
      "Collecting scipy\n",
      "  Downloading scipy-1.14.1-cp312-cp312-win_amd64.whl.metadata (60 kB)\n",
      "Requirement already satisfied: numpy<2.3,>=1.23.5 in c:\\users\\dell\\appdata\\local\\programs\\python\\python312\\lib\\site-packages (from scipy) (2.1.2)\n",
      "Downloading scipy-1.14.1-cp312-cp312-win_amd64.whl (44.5 MB)\n",
      "   ---------------------------------------- 0.0/44.5 MB ? eta -:--:--\n",
      "   ---------------------------------------- 0.5/44.5 MB 4.2 MB/s eta 0:00:11\n",
      "   - -------------------------------------- 1.8/44.5 MB 5.6 MB/s eta 0:00:08\n",
      "   -- ------------------------------------- 3.1/44.5 MB 6.0 MB/s eta 0:00:07\n",
      "   ---- ----------------------------------- 5.0/44.5 MB 6.6 MB/s eta 0:00:07\n",
      "   ------ --------------------------------- 7.1/44.5 MB 7.3 MB/s eta 0:00:06\n",
      "   -------- ------------------------------- 9.4/44.5 MB 7.9 MB/s eta 0:00:05\n",
      "   ---------- ----------------------------- 11.5/44.5 MB 8.2 MB/s eta 0:00:05\n",
      "   ------------ --------------------------- 13.4/44.5 MB 8.4 MB/s eta 0:00:04\n",
      "   ------------- -------------------------- 15.5/44.5 MB 8.5 MB/s eta 0:00:04\n",
      "   ---------------- ----------------------- 17.8/44.5 MB 8.8 MB/s eta 0:00:04\n",
      "   ------------------ --------------------- 20.2/44.5 MB 9.0 MB/s eta 0:00:03\n",
      "   -------------------- ------------------- 22.5/44.5 MB 9.2 MB/s eta 0:00:03\n",
      "   ---------------------- ----------------- 25.2/44.5 MB 9.4 MB/s eta 0:00:03\n",
      "   ------------------------ --------------- 27.5/44.5 MB 9.5 MB/s eta 0:00:02\n",
      "   -------------------------- ------------- 29.6/44.5 MB 9.5 MB/s eta 0:00:02\n",
      "   ---------------------------- ----------- 32.0/44.5 MB 9.6 MB/s eta 0:00:02\n",
      "   ------------------------------- -------- 34.6/44.5 MB 9.8 MB/s eta 0:00:02\n",
      "   -------------------------------- ------- 36.7/44.5 MB 9.8 MB/s eta 0:00:01\n",
      "   ---------------------------------- ----- 38.8/44.5 MB 9.8 MB/s eta 0:00:01\n",
      "   ------------------------------------ --- 40.9/44.5 MB 9.9 MB/s eta 0:00:01\n",
      "   ---------------------------------------  43.8/44.5 MB 10.0 MB/s eta 0:00:01\n",
      "   ---------------------------------------- 44.5/44.5 MB 9.8 MB/s eta 0:00:00\n",
      "Installing collected packages: scipy\n",
      "Successfully installed scipy-1.14.1\n",
      "Note: you may need to restart the kernel to use updated packages.\n"
     ]
    },
    {
     "name": "stderr",
     "output_type": "stream",
     "text": [
      "\n",
      "[notice] A new release of pip is available: 24.2 -> 24.3.1\n",
      "[notice] To update, run: python.exe -m pip install --upgrade pip\n"
     ]
    }
   ],
   "source": [
    "pip install scipy"
   ]
  },
  {
   "cell_type": "code",
   "execution_count": 1,
   "metadata": {},
   "outputs": [],
   "source": [
    "import numpy as np\n",
    "import pandas as pd\n"
   ]
  },
  {
   "cell_type": "code",
   "execution_count": 5,
   "metadata": {},
   "outputs": [
    {
     "data": {
      "text/html": [
       "<div>\n",
       "<style scoped>\n",
       "    .dataframe tbody tr th:only-of-type {\n",
       "        vertical-align: middle;\n",
       "    }\n",
       "\n",
       "    .dataframe tbody tr th {\n",
       "        vertical-align: top;\n",
       "    }\n",
       "\n",
       "    .dataframe thead th {\n",
       "        text-align: right;\n",
       "    }\n",
       "</style>\n",
       "<table border=\"1\" class=\"dataframe\">\n",
       "  <thead>\n",
       "    <tr style=\"text-align: right;\">\n",
       "      <th></th>\n",
       "      <th>PassengerId</th>\n",
       "      <th>Survived</th>\n",
       "      <th>Pclass</th>\n",
       "      <th>Name</th>\n",
       "      <th>Sex</th>\n",
       "      <th>Age</th>\n",
       "      <th>SibSp</th>\n",
       "      <th>Parch</th>\n",
       "      <th>Ticket</th>\n",
       "      <th>Fare</th>\n",
       "      <th>Cabin</th>\n",
       "      <th>Embarked</th>\n",
       "    </tr>\n",
       "  </thead>\n",
       "  <tbody>\n",
       "    <tr>\n",
       "      <th>0</th>\n",
       "      <td>1</td>\n",
       "      <td>0</td>\n",
       "      <td>3</td>\n",
       "      <td>Braund, Mr. Owen Harris</td>\n",
       "      <td>male</td>\n",
       "      <td>22.0</td>\n",
       "      <td>1</td>\n",
       "      <td>0</td>\n",
       "      <td>A/5 21171</td>\n",
       "      <td>7.2500</td>\n",
       "      <td>NaN</td>\n",
       "      <td>S</td>\n",
       "    </tr>\n",
       "    <tr>\n",
       "      <th>1</th>\n",
       "      <td>2</td>\n",
       "      <td>1</td>\n",
       "      <td>1</td>\n",
       "      <td>Cumings, Mrs. John Bradley (Florence Briggs Th...</td>\n",
       "      <td>female</td>\n",
       "      <td>38.0</td>\n",
       "      <td>1</td>\n",
       "      <td>0</td>\n",
       "      <td>PC 17599</td>\n",
       "      <td>71.2833</td>\n",
       "      <td>C85</td>\n",
       "      <td>C</td>\n",
       "    </tr>\n",
       "    <tr>\n",
       "      <th>2</th>\n",
       "      <td>3</td>\n",
       "      <td>1</td>\n",
       "      <td>3</td>\n",
       "      <td>Heikkinen, Miss. Laina</td>\n",
       "      <td>female</td>\n",
       "      <td>26.0</td>\n",
       "      <td>0</td>\n",
       "      <td>0</td>\n",
       "      <td>STON/O2. 3101282</td>\n",
       "      <td>7.9250</td>\n",
       "      <td>NaN</td>\n",
       "      <td>S</td>\n",
       "    </tr>\n",
       "    <tr>\n",
       "      <th>3</th>\n",
       "      <td>4</td>\n",
       "      <td>1</td>\n",
       "      <td>1</td>\n",
       "      <td>Futrelle, Mrs. Jacques Heath (Lily May Peel)</td>\n",
       "      <td>female</td>\n",
       "      <td>35.0</td>\n",
       "      <td>1</td>\n",
       "      <td>0</td>\n",
       "      <td>113803</td>\n",
       "      <td>53.1000</td>\n",
       "      <td>C123</td>\n",
       "      <td>S</td>\n",
       "    </tr>\n",
       "    <tr>\n",
       "      <th>4</th>\n",
       "      <td>5</td>\n",
       "      <td>0</td>\n",
       "      <td>3</td>\n",
       "      <td>Allen, Mr. William Henry</td>\n",
       "      <td>male</td>\n",
       "      <td>35.0</td>\n",
       "      <td>0</td>\n",
       "      <td>0</td>\n",
       "      <td>373450</td>\n",
       "      <td>8.0500</td>\n",
       "      <td>NaN</td>\n",
       "      <td>S</td>\n",
       "    </tr>\n",
       "  </tbody>\n",
       "</table>\n",
       "</div>"
      ],
      "text/plain": [
       "   PassengerId  Survived  Pclass  \\\n",
       "0            1         0       3   \n",
       "1            2         1       1   \n",
       "2            3         1       3   \n",
       "3            4         1       1   \n",
       "4            5         0       3   \n",
       "\n",
       "                                                Name     Sex   Age  SibSp  \\\n",
       "0                            Braund, Mr. Owen Harris    male  22.0      1   \n",
       "1  Cumings, Mrs. John Bradley (Florence Briggs Th...  female  38.0      1   \n",
       "2                             Heikkinen, Miss. Laina  female  26.0      0   \n",
       "3       Futrelle, Mrs. Jacques Heath (Lily May Peel)  female  35.0      1   \n",
       "4                           Allen, Mr. William Henry    male  35.0      0   \n",
       "\n",
       "   Parch            Ticket     Fare Cabin Embarked  \n",
       "0      0         A/5 21171   7.2500   NaN        S  \n",
       "1      0          PC 17599  71.2833   C85        C  \n",
       "2      0  STON/O2. 3101282   7.9250   NaN        S  \n",
       "3      0            113803  53.1000  C123        S  \n",
       "4      0            373450   8.0500   NaN        S  "
      ]
     },
     "execution_count": 5,
     "metadata": {},
     "output_type": "execute_result"
    }
   ],
   "source": [
    "#load data\n",
    "train_rd = pd.read_csv(r\"D:/Thu thập & tiền xử lý dữ liệu/Đề Classroom/Train/train.csv\")\n",
    "train_rd.dtypes\n",
    "train_rd.head()"
   ]
  },
  {
   "cell_type": "code",
   "execution_count": 8,
   "metadata": {},
   "outputs": [
    {
     "name": "stdout",
     "output_type": "stream",
     "text": [
      "23.0896\n"
     ]
    }
   ],
   "source": [
    "import scipy\n",
    "fare_iqr = scipy.stats.iqr(train_rd['Fare'])\n",
    "print(fare_iqr)"
   ]
  },
  {
   "cell_type": "code",
   "execution_count": 9,
   "metadata": {},
   "outputs": [
    {
     "name": "stdout",
     "output_type": "stream",
     "text": [
      "7.9104\n"
     ]
    }
   ],
   "source": [
    "# su dung cong thuc\n",
    "Q1= np.quantile(train_rd['Fare'].dropna(),0.25)\n",
    "print(Q1)"
   ]
  },
  {
   "cell_type": "code",
   "execution_count": 10,
   "metadata": {},
   "outputs": [
    {
     "name": "stdout",
     "output_type": "stream",
     "text": [
      "31.0\n"
     ]
    }
   ],
   "source": [
    "# su dung cong thuc\n",
    "Q3= np.quantile(train_rd['Fare'].dropna(),0.75)\n",
    "print(Q3)"
   ]
  },
  {
   "cell_type": "code",
   "execution_count": 11,
   "metadata": {},
   "outputs": [
    {
     "name": "stdout",
     "output_type": "stream",
     "text": [
      "23.0896\n"
     ]
    }
   ],
   "source": [
    "#khoang cach tu phan vi\n",
    "IQR = Q3-Q1\n",
    "print(IQR)"
   ]
  },
  {
   "cell_type": "code",
   "execution_count": 12,
   "metadata": {},
   "outputs": [
    {
     "name": "stdout",
     "output_type": "stream",
     "text": [
      "512.3292\n"
     ]
    }
   ],
   "source": [
    "#Cach1: Khoang cach bien thien\n",
    "Range = train_rd['Fare'].max()- train_rd['Fare'].min()\n",
    "print(Range)"
   ]
  },
  {
   "cell_type": "code",
   "execution_count": 13,
   "metadata": {},
   "outputs": [
    {
     "name": "stdout",
     "output_type": "stream",
     "text": [
      "512.3292\n"
     ]
    }
   ],
   "source": [
    "#Cach2 : Khoang cach bien bien\n",
    "Range = np.ptp(train_rd['Fare'])\n",
    "print(Range)"
   ]
  },
  {
   "cell_type": "code",
   "execution_count": 14,
   "metadata": {},
   "outputs": [
    {
     "name": "stdout",
     "output_type": "stream",
     "text": [
      "2469.436845743116\n"
     ]
    }
   ],
   "source": [
    "#Tinh phuong sai\n",
    "ps = train_rd['Fare'].var()\n",
    "print(ps)"
   ]
  },
  {
   "cell_type": "code",
   "execution_count": 15,
   "metadata": {},
   "outputs": [
    {
     "name": "stdout",
     "output_type": "stream",
     "text": [
      "49.6934285971809\n"
     ]
    }
   ],
   "source": [
    "#Tinh do lech chuan\n",
    "dlc = train_rd['Fare'].std()\n",
    "print(dlc)"
   ]
  },
  {
   "cell_type": "code",
   "execution_count": null,
   "metadata": {},
   "outputs": [
    {
     "name": "stdout",
     "output_type": "stream",
     "text": [
      "4.787316519674893\n"
     ]
    }
   ],
   "source": [
    "# Do lech\n",
    "do_lech = train_rd['Fare'].skew()\n",
    "print(do_lech)\n",
    "#=> 0 : Phan phoi lech phai"
   ]
  },
  {
   "cell_type": "code",
   "execution_count": 18,
   "metadata": {},
   "outputs": [
    {
     "name": "stdout",
     "output_type": "stream",
     "text": [
      "33.39814088089868\n"
     ]
    }
   ],
   "source": [
    "#Do nhon\n",
    "do_nhon = train_rd['Fare'].kurtosis()\n",
    "print(do_nhon)\n",
    "#=>>0: Phan phoi nhon hon phan phoi chuan\n",
    "from matplotlib import pyplot"
   ]
  },
  {
   "cell_type": "code",
   "execution_count": 19,
   "metadata": {},
   "outputs": [
    {
     "data": {
      "text/plain": [
       "<function matplotlib.pyplot.show(close=None, block=None)>"
      ]
     },
     "execution_count": 19,
     "metadata": {},
     "output_type": "execute_result"
    },
    {
     "data": {
      "image/png": "[encoded data removed]",
      "text/plain": [
       "<Figure size 600x400 with 1 Axes>"
      ]
     },
     "metadata": {},
     "output_type": "display_data"
    }
   ],
   "source": [
    "#Truc quan\n",
    "\n",
    "#ve historgram cua bien fare\n",
    "pyplot.figure(figsize=(6,4))\n",
    "pyplot.hist(train_rd['Fare'])\n",
    "pyplot.show"
   ]
  },
  {
   "cell_type": "code",
   "execution_count": 20,
   "metadata": {},
   "outputs": [
    {
     "data": {
      "text/plain": [
       "<function matplotlib.pyplot.show(close=None, block=None)>"
      ]
     },
     "execution_count": 20,
     "metadata": {},
     "output_type": "execute_result"
    },
    {
     "data": {
      "image/png": "[encoded data removed]",
      "text/plain": [
       "<Figure size 640x480 with 1 Axes>"
      ]
     },
     "metadata": {},
     "output_type": "display_data"
    }
   ],
   "source": [
    "#ve boxplot cua bien Fare\n",
    "pyplot.Figure(figsize=(6,4))\n",
    "pyplot.boxplot(train_rd['Fare'])\n",
    "pyplot.show"
   ]
  },
  {
   "cell_type": "code",
   "execution_count": 21,
   "metadata": {},
   "outputs": [
    {
     "name": "stdout",
     "output_type": "stream",
     "text": [
      "0      False\n",
      "1       True\n",
      "2      False\n",
      "3      False\n",
      "4      False\n",
      "       ...  \n",
      "886    False\n",
      "887    False\n",
      "888    False\n",
      "889    False\n",
      "890    False\n",
      "Name: Fare, Length: 891, dtype: bool\n"
     ]
    }
   ],
   "source": [
    "#in cac gia tri ngoai lai\n",
    "print(train_rd['Fare']>Q3+1.5*IQR)"
   ]
  },
  {
   "cell_type": "code",
   "execution_count": 22,
   "metadata": {},
   "outputs": [
    {
     "name": "stdout",
     "output_type": "stream",
     "text": [
      "Pclass\n",
      "3    491\n",
      "1    216\n",
      "2    184\n",
      "Name: count, dtype: int64\n"
     ]
    }
   ],
   "source": [
    "#Tinh so luong lop ve\n",
    "value_counts = train_rd['Pclass'].value_counts()\n",
    "print(value_counts)"
   ]
  },
  {
   "cell_type": "code",
   "execution_count": 23,
   "metadata": {},
   "outputs": [
    {
     "data": {
      "image/png": "[encoded data removed]",
      "text/plain": [
       "<Figure size 640x480 with 1 Axes>"
      ]
     },
     "metadata": {},
     "output_type": "display_data"
    }
   ],
   "source": [
    "#ve bieu do cot minh hoa\n",
    "#sns.set()\n",
    "value_counts.plot.bar()\n",
    "pyplot.show()"
   ]
  },
  {
   "cell_type": "code",
   "execution_count": 24,
   "metadata": {},
   "outputs": [
    {
     "name": "stdout",
     "output_type": "stream",
     "text": [
      "Pclass\n",
      "1    216\n",
      "2    184\n",
      "3    491\n",
      "Name: PassengerId, dtype: int64\n"
     ]
    }
   ],
   "source": [
    "#so luong hanh khach trong lop ve\n",
    "classes = (train_rd.groupby('Pclass').count())['PassengerId']\n",
    "print(classes)"
   ]
  },
  {
   "cell_type": "code",
   "execution_count": null,
   "metadata": {},
   "outputs": [],
   "source": [
    "def Stem_and_leaf(data):\n",
    "    #Sap xep du lieu\n",
    "    data.sort()"
   ]
  },
  {
   "cell_type": "code",
   "execution_count": 26,
   "metadata": {},
   "outputs": [],
   "source": [
    "#Khoi tao de luu tru stem and leaf\n",
    "stem_dict = {}"
   ]
  },
  {
   "cell_type": "code",
   "execution_count": 35,
   "metadata": {},
   "outputs": [],
   "source": [
    "for num in classes:\n",
    "    # Tách stem và leaf\n",
    "        stem, leaf = divmod(num, 10)\n",
    "        \n",
    "        # Gộp các lá tương ứng với một thân\n",
    "        stem_dict.setdefault(stem, []).append(leaf)\n"
   ]
  },
  {
   "cell_type": "code",
   "execution_count": 31,
   "metadata": {},
   "outputs": [
    {
     "name": "stdout",
     "output_type": "stream",
     "text": [
      "Stem | Leaf\n",
      "-------------\n"
     ]
    }
   ],
   "source": [
    "# Hiển thị stem-and-leaf plot\n",
    "print(\"Stem | Leaf\")\n",
    "print(\"-------------\")"
   ]
  },
  {
   "cell_type": "code",
   "execution_count": 32,
   "metadata": {},
   "outputs": [
    {
     "name": "stdout",
     "output_type": "stream",
     "text": [
      "18   | 4\n",
      "21   | 6\n",
      "49   | 1\n"
     ]
    }
   ],
   "source": [
    "for stem, leaves in sorted(stem_dict.items()):\n",
    "    leaf_str = \" \".join(map(str, leaves))\n",
    "    print(f\"{stem:<4} | {leaf_str}\")"
   ]
  },
  {
   "cell_type": "code",
   "execution_count": 33,
   "metadata": {},
   "outputs": [],
   "source": [
    "#data mau\n",
    "data = [12,10,15,19,14,18,23, 25, 29, 30, 32, 32, 33, 33, 35, 37, 40, 45, 45, 46, 48]"
   ]
  }
 ],
 "metadata": {
  "kernelspec": {
   "display_name": "Python 3",
   "language": "python",
   "name": "python3"
  },
  "language_info": {
   "codemirror_mode": {
    "name": "ipython",
    "version": 3
   },
   "file_extension": ".py",
   "mimetype": "text/x-python",
   "name": "python",
   "nbconvert_exporter": "python",
   "pygments_lexer": "ipython3",
   "version": "3.12.6"
  }
 },
 "nbformat": 4,
 "nbformat_minor": 2
}
