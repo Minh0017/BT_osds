{
 "cells": [
  {
   "cell_type": "code",
   "execution_count": 12,
   "metadata": {},
   "outputs": [
    {
     "name": "stdout",
     "output_type": "stream",
     "text": [
      "Requirement already satisfied: selenium in c:\\users\\dell\\appdata\\local\\programs\\python\\python312\\lib\\site-packages (4.25.0)\n",
      "Requirement already satisfied: urllib3<3,>=1.26 in c:\\users\\dell\\appdata\\local\\programs\\python\\python312\\lib\\site-packages (from urllib3[socks]<3,>=1.26->selenium) (2.2.3)\n",
      "Requirement already satisfied: trio~=0.17 in c:\\users\\dell\\appdata\\local\\programs\\python\\python312\\lib\\site-packages (from selenium) (0.27.0)\n",
      "Requirement already satisfied: trio-websocket~=0.9 in c:\\users\\dell\\appdata\\local\\programs\\python\\python312\\lib\\site-packages (from selenium) (0.11.1)\n",
      "Requirement already satisfied: certifi>=2021.10.8 in c:\\users\\dell\\appdata\\local\\programs\\python\\python312\\lib\\site-packages (from selenium) (2024.8.30)\n",
      "Requirement already satisfied: typing_extensions~=4.9 in c:\\users\\dell\\appdata\\local\\programs\\python\\python312\\lib\\site-packages (from selenium) (4.12.2)\n",
      "Requirement already satisfied: websocket-client~=1.8 in c:\\users\\dell\\appdata\\local\\programs\\python\\python312\\lib\\site-packages (from selenium) (1.8.0)\n",
      "Requirement already satisfied: attrs>=23.2.0 in c:\\users\\dell\\appdata\\local\\programs\\python\\python312\\lib\\site-packages (from trio~=0.17->selenium) (24.2.0)\n",
      "Requirement already satisfied: sortedcontainers in c:\\users\\dell\\appdata\\local\\programs\\python\\python312\\lib\\site-packages (from trio~=0.17->selenium) (2.4.0)\n",
      "Requirement already satisfied: idna in c:\\users\\dell\\appdata\\local\\programs\\python\\python312\\lib\\site-packages (from trio~=0.17->selenium) (3.10)\n",
      "Requirement already satisfied: outcome in c:\\users\\dell\\appdata\\local\\programs\\python\\python312\\lib\\site-packages (from trio~=0.17->selenium) (1.3.0.post0)\n",
      "Requirement already satisfied: sniffio>=1.3.0 in c:\\users\\dell\\appdata\\local\\programs\\python\\python312\\lib\\site-packages (from trio~=0.17->selenium) (1.3.1)\n",
      "Requirement already satisfied: cffi>=1.14 in c:\\users\\dell\\appdata\\local\\programs\\python\\python312\\lib\\site-packages (from trio~=0.17->selenium) (1.17.1)\n",
      "Requirement already satisfied: wsproto>=0.14 in c:\\users\\dell\\appdata\\local\\programs\\python\\python312\\lib\\site-packages (from trio-websocket~=0.9->selenium) (1.2.0)\n",
      "Requirement already satisfied: pysocks!=1.5.7,<2.0,>=1.5.6 in c:\\users\\dell\\appdata\\local\\programs\\python\\python312\\lib\\site-packages (from urllib3[socks]<3,>=1.26->selenium) (1.7.1)\n",
      "Requirement already satisfied: pycparser in c:\\users\\dell\\appdata\\local\\programs\\python\\python312\\lib\\site-packages (from cffi>=1.14->trio~=0.17->selenium) (2.22)\n",
      "Requirement already satisfied: h11<1,>=0.9.0 in c:\\users\\dell\\appdata\\local\\programs\\python\\python312\\lib\\site-packages (from wsproto>=0.14->trio-websocket~=0.9->selenium) (0.14.0)\n",
      "Note: you may need to restart the kernel to use updated packages.\n"
     ]
    }
   ],
   "source": [
    "%pip install selenium\n"
   ]
  },
  {
   "cell_type": "code",
   "execution_count": 13,
   "metadata": {},
   "outputs": [],
   "source": [
    "\n",
    "from selenium import webdriver\n",
    "from selenium.webdriver.chrome.service import Service\n",
    "from selenium.webdriver.common.by import By\n",
    "from selenium.webdriver.common.keys import Keys\n",
    "from selenium.webdriver.support.ui import WebDriverWait\n",
    "from selenium.webdriver.support import expected_conditions as EC\n",
    "from selenium.common.exceptions import NoSuchElementException, TimeoutException\n",
    "from selenium.webdriver import ActionChains\n",
    "import time"
   ]
  },
  {
   "cell_type": "code",
   "execution_count": 14,
   "metadata": {},
   "outputs": [
    {
     "ename": "NoSuchWindowException",
     "evalue": "Message: no such window: target window already closed\nfrom unknown error: web view not found\n  (Session info: chrome=130.0.6723.58)\nStacktrace:\n\tGetHandleVerifier [0x00007FF77623E1F5+2972373]\n\t(No symbol) [0x00007FF775ED55F0]\n\t(No symbol) [0x00007FF775D757FA]\n\t(No symbol) [0x00007FF775D4FA85]\n\t(No symbol) [0x00007FF775DF2B17]\n\t(No symbol) [0x00007FF775E0B1D1]\n\t(No symbol) [0x00007FF775DEB823]\n\t(No symbol) [0x00007FF775DB75E8]\n\t(No symbol) [0x00007FF775DB8751]\n\tGetHandleVerifier [0x00007FF7762647BD+3129501]\n\tGetHandleVerifier [0x00007FF7762B4D00+3458528]\n\tGetHandleVerifier [0x00007FF7762AB05D+3418429]\n\tGetHandleVerifier [0x00007FF77603687B+844123]\n\t(No symbol) [0x00007FF775EE0AFF]\n\t(No symbol) [0x00007FF775EDC6D4]\n\t(No symbol) [0x00007FF775EDC86D]\n\t(No symbol) [0x00007FF775ECBD79]\n\tBaseThreadInitThunk [0x00007FF954CE257D+29]\n\tRtlUserThreadStart [0x00007FF955D0AF08+40]\n",
     "output_type": "error",
     "traceback": [
      "\u001b[1;31m---------------------------------------------------------------------------\u001b[0m",
      "\u001b[1;31mNoSuchWindowException\u001b[0m                     Traceback (most recent call last)",
      "Cell \u001b[1;32mIn[14], line 14\u001b[0m\n\u001b[0;32m     11\u001b[0m time\u001b[38;5;241m.\u001b[39msleep(\u001b[38;5;241m1\u001b[39m)\n\u001b[0;32m     13\u001b[0m \u001b[38;5;66;03m# Tìm phần tử body của trang để gửi phím mũi tên xuống\u001b[39;00m\n\u001b[1;32m---> 14\u001b[0m body \u001b[38;5;241m=\u001b[39m \u001b[43mdriver\u001b[49m\u001b[38;5;241;43m.\u001b[39;49m\u001b[43mfind_element\u001b[49m\u001b[43m(\u001b[49m\u001b[43mBy\u001b[49m\u001b[38;5;241;43m.\u001b[39;49m\u001b[43mTAG_NAME\u001b[49m\u001b[43m,\u001b[49m\u001b[43m \u001b[49m\u001b[38;5;124;43m\"\u001b[39;49m\u001b[38;5;124;43mbody\u001b[39;49m\u001b[38;5;124;43m\"\u001b[39;49m\u001b[43m)\u001b[49m\n\u001b[0;32m     15\u001b[0m time\u001b[38;5;241m.\u001b[39msleep(\u001b[38;5;241m3\u001b[39m)\n\u001b[0;32m     18\u001b[0m \u001b[38;5;66;03m# Nhấn phím mũi tên xuống nhiều lần để cuộn xuống từ từ\u001b[39;00m\n",
      "File \u001b[1;32mc:\\Users\\DELL\\AppData\\Local\\Programs\\Python\\Python312\\Lib\\site-packages\\selenium\\webdriver\\remote\\webdriver.py:748\u001b[0m, in \u001b[0;36mWebDriver.find_element\u001b[1;34m(self, by, value)\u001b[0m\n\u001b[0;32m    745\u001b[0m     by \u001b[38;5;241m=\u001b[39m By\u001b[38;5;241m.\u001b[39mCSS_SELECTOR\n\u001b[0;32m    746\u001b[0m     value \u001b[38;5;241m=\u001b[39m \u001b[38;5;124mf\u001b[39m\u001b[38;5;124m'\u001b[39m\u001b[38;5;124m[name=\u001b[39m\u001b[38;5;124m\"\u001b[39m\u001b[38;5;132;01m{\u001b[39;00mvalue\u001b[38;5;132;01m}\u001b[39;00m\u001b[38;5;124m\"\u001b[39m\u001b[38;5;124m]\u001b[39m\u001b[38;5;124m'\u001b[39m\n\u001b[1;32m--> 748\u001b[0m \u001b[38;5;28;01mreturn\u001b[39;00m \u001b[38;5;28;43mself\u001b[39;49m\u001b[38;5;241;43m.\u001b[39;49m\u001b[43mexecute\u001b[49m\u001b[43m(\u001b[49m\u001b[43mCommand\u001b[49m\u001b[38;5;241;43m.\u001b[39;49m\u001b[43mFIND_ELEMENT\u001b[49m\u001b[43m,\u001b[49m\u001b[43m \u001b[49m\u001b[43m{\u001b[49m\u001b[38;5;124;43m\"\u001b[39;49m\u001b[38;5;124;43musing\u001b[39;49m\u001b[38;5;124;43m\"\u001b[39;49m\u001b[43m:\u001b[49m\u001b[43m \u001b[49m\u001b[43mby\u001b[49m\u001b[43m,\u001b[49m\u001b[43m \u001b[49m\u001b[38;5;124;43m\"\u001b[39;49m\u001b[38;5;124;43mvalue\u001b[39;49m\u001b[38;5;124;43m\"\u001b[39;49m\u001b[43m:\u001b[49m\u001b[43m \u001b[49m\u001b[43mvalue\u001b[49m\u001b[43m}\u001b[49m\u001b[43m)\u001b[49m[\u001b[38;5;124m\"\u001b[39m\u001b[38;5;124mvalue\u001b[39m\u001b[38;5;124m\"\u001b[39m]\n",
      "File \u001b[1;32mc:\\Users\\DELL\\AppData\\Local\\Programs\\Python\\Python312\\Lib\\site-packages\\selenium\\webdriver\\remote\\webdriver.py:354\u001b[0m, in \u001b[0;36mWebDriver.execute\u001b[1;34m(self, driver_command, params)\u001b[0m\n\u001b[0;32m    352\u001b[0m response \u001b[38;5;241m=\u001b[39m \u001b[38;5;28mself\u001b[39m\u001b[38;5;241m.\u001b[39mcommand_executor\u001b[38;5;241m.\u001b[39mexecute(driver_command, params)\n\u001b[0;32m    353\u001b[0m \u001b[38;5;28;01mif\u001b[39;00m response:\n\u001b[1;32m--> 354\u001b[0m     \u001b[38;5;28;43mself\u001b[39;49m\u001b[38;5;241;43m.\u001b[39;49m\u001b[43merror_handler\u001b[49m\u001b[38;5;241;43m.\u001b[39;49m\u001b[43mcheck_response\u001b[49m\u001b[43m(\u001b[49m\u001b[43mresponse\u001b[49m\u001b[43m)\u001b[49m\n\u001b[0;32m    355\u001b[0m     response[\u001b[38;5;124m\"\u001b[39m\u001b[38;5;124mvalue\u001b[39m\u001b[38;5;124m\"\u001b[39m] \u001b[38;5;241m=\u001b[39m \u001b[38;5;28mself\u001b[39m\u001b[38;5;241m.\u001b[39m_unwrap_value(response\u001b[38;5;241m.\u001b[39mget(\u001b[38;5;124m\"\u001b[39m\u001b[38;5;124mvalue\u001b[39m\u001b[38;5;124m\"\u001b[39m, \u001b[38;5;28;01mNone\u001b[39;00m))\n\u001b[0;32m    356\u001b[0m     \u001b[38;5;28;01mreturn\u001b[39;00m response\n",
      "File \u001b[1;32mc:\\Users\\DELL\\AppData\\Local\\Programs\\Python\\Python312\\Lib\\site-packages\\selenium\\webdriver\\remote\\errorhandler.py:229\u001b[0m, in \u001b[0;36mErrorHandler.check_response\u001b[1;34m(self, response)\u001b[0m\n\u001b[0;32m    227\u001b[0m         alert_text \u001b[38;5;241m=\u001b[39m value[\u001b[38;5;124m\"\u001b[39m\u001b[38;5;124malert\u001b[39m\u001b[38;5;124m\"\u001b[39m]\u001b[38;5;241m.\u001b[39mget(\u001b[38;5;124m\"\u001b[39m\u001b[38;5;124mtext\u001b[39m\u001b[38;5;124m\"\u001b[39m)\n\u001b[0;32m    228\u001b[0m     \u001b[38;5;28;01mraise\u001b[39;00m exception_class(message, screen, stacktrace, alert_text)  \u001b[38;5;66;03m# type: ignore[call-arg]  # mypy is not smart enough here\u001b[39;00m\n\u001b[1;32m--> 229\u001b[0m \u001b[38;5;28;01mraise\u001b[39;00m exception_class(message, screen, stacktrace)\n",
      "\u001b[1;31mNoSuchWindowException\u001b[0m: Message: no such window: target window already closed\nfrom unknown error: web view not found\n  (Session info: chrome=130.0.6723.58)\nStacktrace:\n\tGetHandleVerifier [0x00007FF77623E1F5+2972373]\n\t(No symbol) [0x00007FF775ED55F0]\n\t(No symbol) [0x00007FF775D757FA]\n\t(No symbol) [0x00007FF775D4FA85]\n\t(No symbol) [0x00007FF775DF2B17]\n\t(No symbol) [0x00007FF775E0B1D1]\n\t(No symbol) [0x00007FF775DEB823]\n\t(No symbol) [0x00007FF775DB75E8]\n\t(No symbol) [0x00007FF775DB8751]\n\tGetHandleVerifier [0x00007FF7762647BD+3129501]\n\tGetHandleVerifier [0x00007FF7762B4D00+3458528]\n\tGetHandleVerifier [0x00007FF7762AB05D+3418429]\n\tGetHandleVerifier [0x00007FF77603687B+844123]\n\t(No symbol) [0x00007FF775EE0AFF]\n\t(No symbol) [0x00007FF775EDC6D4]\n\t(No symbol) [0x00007FF775EDC86D]\n\t(No symbol) [0x00007FF775ECBD79]\n\tBaseThreadInitThunk [0x00007FF954CE257D+29]\n\tRtlUserThreadStart [0x00007FF955D0AF08+40]\n"
     ]
    }
   ],
   "source": [
    "\n",
    "\n",
    "driver = webdriver.Chrome()\n",
    "\n",
    "\n",
    "# Tạo url\n",
    "url = 'https://gochek.vn/collections/all'\n",
    "\n",
    "# Truy cập\n",
    "driver.get(url)\n",
    "\n",
    "# Tạm dừng khoảng 2 giây\n",
    "time.sleep(1)\n",
    "\n",
    "# Tìm phần tử body của trang để gửi phím mũi tên xuống\n",
    "body = driver.find_element(By.TAG_NAME, \"body\")\n",
    "time.sleep(3)\n",
    "\n",
    "\n",
    "# Nhấn phím mũi tên xuống nhiều lần để cuộn xuống từ từ\n",
    "for i in range(50):  # Lặp 30 lần, mỗi lần cuộn xuống một ít\n",
    "    body.send_keys(Keys.ARROW_DOWN)\n",
    "    time.sleep(0.01)  # Tạm dừng 0.2 giây giữa mỗi lần cuộn để trang tải nội dung\n",
    "\n",
    "# Tạm dừng thêm vài giây để trang tải hết nội dung ở cuối trang\n",
    "time.sleep(1)\n",
    "\n",
    "# Tao cac list\n",
    "stt = []\n",
    "ten_san_pham = []\n",
    "gia_ban = []\n",
    "hinh_anh = []\n",
    "\n",
    "# # Tìm tất cả các sp \n",
    "spgo = driver.find_elements(By.XPATH, \"//div[contains(@class,'product-block')]\")\n",
    "\n",
    "print(len(spgo))\n",
    "\n",
    "# lay tung san pham\n",
    "for i, goc in enumerate(spgo, 1):\n",
    "    # Quay ngược 3 lần để tìm div cha\n",
    "    parent_div = goc\n",
    "    # for _ in range(3):\n",
    "    #     parent_div = parent_div.find_element(By.XPATH,\"./..\")  # Quay ngược 1 lần\n",
    "    \n",
    "    sp =parent_div\n",
    "    \n",
    "    # Lat ten sp\n",
    "    try:\n",
    "        tsp = sp.find_element(By.TAG_NAME, 'h3').text\n",
    "    except:\n",
    "        tsp=''\n",
    "    \n",
    "    # Lat gia sp\n",
    "    try:\n",
    "        gsp = sp.find_element(By.CLASS_NAME, \"pro-price.highlight\").text\n",
    "        gsp1 = [el.text for el in gsp.find_elements(By.XPATH, \".//*[not(contains(@class, 'pro-price-del'))]\")]\n",
    "        gsp = \" \".join(gsp1)\n",
    "    except:\n",
    "        gsp = sp.find_element(By.CLASS_NAME, \"box-pro-prices\").text\n",
    "\n",
    "    \n",
    "    # Lat hinh anh\n",
    "    try:\n",
    "        ha = sp.find_element(By.TAG_NAME, 'img').get_attribute('src')\n",
    "    except:\n",
    "        ha=''\n",
    "\n",
    "    # Chi them vao ds neu co ten sp\n",
    "    if(len(tsp)>0):\n",
    "        stt.append(i)\n",
    "        ten_san_pham.append(tsp)\n",
    "        gia_ban.append(gsp)\n",
    "        hinh_anh.append(ha)\n",
    "\n",
    "# Tạo df\n",
    "df=pd.DataFrame({\n",
    "    \"STT\" : stt,\n",
    "    \"Tên sản phẩm\": ten_san_pham,\n",
    "    \"Giá bán\":gia_ban,\n",
    "    \"Hình ảnh\":hinh_anh\n",
    "    \n",
    "})"
   ]
  },
  {
   "cell_type": "code",
   "execution_count": 4,
   "metadata": {},
   "outputs": [],
   "source": [
    "df.to_excel('ds_sp_Gocheck.xlsx', index=False)"
   ]
  }
 ],
 "metadata": {
  "kernelspec": {
   "display_name": "Python 3",
   "language": "python",
   "name": "python3"
  },
  "language_info": {
   "codemirror_mode": {
    "name": "ipython",
    "version": 3
   },
   "file_extension": ".py",
   "mimetype": "text/x-python",
   "name": "python",
   "nbconvert_exporter": "python",
   "pygments_lexer": "ipython3",
   "version": "3.12.6"
  }
 },
 "nbformat": 4,
 "nbformat_minor": 2
}
