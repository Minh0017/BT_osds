{
 "cells": [
  {
   "cell_type": "code",
   "execution_count": 1,
   "metadata": {},
   "outputs": [],
   "source": [
    "from selenium import webdriver\n",
    "from selenium.webdriver.common.by import By\n",
    "from selenium.webdriver.chrome.options import Options\n",
    "import time\n",
    "import pandas as pd\n",
    "import re"
   ]
  },
  {
   "cell_type": "code",
   "execution_count": 2,
   "metadata": {},
   "outputs": [],
   "source": [
    "# I.tao dataframe rong va noi chua link\n",
    "all_links =[] \n",
    "d =pd.DataFrame({'name': [], 'birth': [], 'death': [], 'nationality': []})"
   ]
  },
  {
   "cell_type": "code",
   "execution_count": 3,
   "metadata": {},
   "outputs": [],
   "source": [
    "# Tạo tùy chọn để chạy trình duyệt ở chế độ ẩn (headless)\n",
    "chrome_options = Options()\n",
    "chrome_options.add_argument(\"--headless=new\")  # Chạy trình duyệt mà không hiển thị giao diện (cách mới cho Chrome 109+)\n",
    "chrome_options.add_argument(\"--disable-gpu\")  # Tắt GPU (để an toàn)\n",
    "chrome_options.add_argument(\"--no-sandbox\")  # Bỏ qua sandbox\n",
    "chrome_options.add_argument(\"--disable-dev-shm-usage\")  # Giảm thiểu bộ nhớ được chia sẻ để tránh lỗi\n",
    "chrome_options.add_argument(\"--log-level=3\")  # Giảm thiểu log output từ trình duyệt\n",
    "chrome_options.add_argument(\"--window-size=1920x1080\")  # Đặt kích thước cửa sổ để tránh lỗi hiển thị"
   ]
  },
  {
   "cell_type": "code",
   "execution_count": 4,
   "metadata": {},
   "outputs": [],
   "source": [
    "# II.lay tat ca duong dan de truy cap den painter\n",
    "for i in range(77, 81):\n",
    "    driver = webdriver.Chrome(options=chrome_options)\n",
    "    url = \"https://en.wikipedia.org/wiki/List_of_painters_by_name_beginning_with_%22\"+chr(i)+\"%22\"\n",
    "    # #mo trang web\n",
    "    # driver.get(url)\n",
    "    try:\n",
    "        #mo trang web\n",
    "        driver.get(url)\n",
    "        #doi khoang chung 3s\n",
    "        time.sleep(3)\n",
    "        #lay ra tat ca the ul\n",
    "        ul_tags = driver.find_elements(By.TAG_NAME, \"ul\")\n",
    "        #print(len(ul_tags))\n",
    "        #chon ul thu 21\n",
    "        ul_painters = ul_tags[20] #dem tu 0\n",
    "        #lay tat ca the <li> thuoc ul_painters\n",
    "        li_tags = ul_painters.find_elements(By.TAG_NAME, \"li\")\n",
    "        # #tao danh sach cac url\n",
    "        links = [tag.find_element(By.TAG_NAME,\"a\").get_attribute(\"href\") for tag in li_tags]\n",
    "        for x in links:\n",
    "            all_links.append(x)\n",
    "        #tao danh sach cac title\n",
    "        # titles = [tag.find_element(By.TAG_NAME,\"a\").get_attribute(\"title\") for tag in li_tags]\n",
    "\n",
    "        # #in ra danh sach\n",
    "        # for link in links:\n",
    "        #     print(link)\n",
    "\n",
    "        #in ra danh sach\n",
    "        # for title in titles:\n",
    "        #     print(title)\n",
    "    except:\n",
    "        print(\"Error!!\")\n",
    "    #tat man hinh\n",
    "    driver.quit()"
   ]
  },
  {
   "cell_type": "code",
   "execution_count": 5,
   "metadata": {},
   "outputs": [
    {
     "name": "stdout",
     "output_type": "stream",
     "text": [
      "Error!!!!!!!!!!!!!!!\n"
     ]
    }
   ],
   "source": [
    "# III.Lay thong tin cua hoa si\n",
    "count = 0\n",
    "for link in all_links:\n",
    "    # if(count > 2):\n",
    "    #     break\n",
    "    # count += 1\n",
    "    #print(link)\n",
    "    try:\n",
    "        #khoi tao webdriver\n",
    "        driver = webdriver.Chrome(options=chrome_options)\n",
    "\n",
    "        #mo trang\n",
    "        url = link\n",
    "        driver.get(url)\n",
    "\n",
    "        #doi 2s\n",
    "        time.sleep(2)\n",
    "\n",
    "        #lay ten hoa si\n",
    "        try:\n",
    "            name = driver.find_element(By.TAG_NAME, \"h1\").text\n",
    "        except:\n",
    "            name = \"\"\n",
    "\n",
    "\n",
    "        #lay ngay sinh hoa si\n",
    "        try:\n",
    "            birth_element = driver.find_element(By.XPATH, \"//th[text()='Born']/following-sibling::td\")\n",
    "            birth = re.findall(r'\\d{1,2} [A-Za-z]+ \\d{4}|\\d{4}', birth_element.text)[0]\n",
    "        except:\n",
    "            birth = \"\"\n",
    "\n",
    "        #lay ngay mat hoa si\n",
    "        try:\n",
    "            death_element = driver.find_element(By.XPATH, \"//th[text()='Died']/following-sibling::td\")\n",
    "            death = re.findall(r'\\d{1,2} [A-Za-z]+ \\d{4}|\\d{4}', death_element.text)[0]\n",
    "        except:\n",
    "            death = \"\"\n",
    "\n",
    "        #lay quoc tich hoa si\n",
    "        try:\n",
    "            nationality_element = driver.find_element(By.XPATH, \"//th[text()='Nationality']/following-sibling::td\")\n",
    "            nationality = nationality_element.text\n",
    "        except:\n",
    "            nationality = \"\"\n",
    "\n",
    "        #tao dictionary thong tin hoa si\n",
    "        painter = {'name': name, 'birth': birth, 'death': death, 'nationality': nationality}\n",
    "        #chuyen doi dictionary thanh dataframe\n",
    "        painter_df = pd.DataFrame([painter])\n",
    "        #them thong tin vao df chinh\n",
    "        d = pd.concat([d, painter_df], ignore_index=True)\n",
    "        #dong web\n",
    "        driver.quit()\n",
    "    except:\n",
    "        print(\"Error!!!!!!!!!!!!!!!\")"
   ]
  },
  {
   "cell_type": "code",
   "execution_count": 6,
   "metadata": {},
   "outputs": [
    {
     "name": "stdout",
     "output_type": "stream",
     "text": [
      "                  name birth death nationality\n",
      "0     Ma Lin (painter)                        \n",
      "1               Ma Shi                        \n",
      "2              Ma Quan                        \n",
      "3     Ma Wan (painter)                        \n",
      "4    Ma Yuan (painter)  1160  1225     Chinese\n",
      "..                 ...   ...   ...         ...\n",
      "647     Hovsep Pushman  1877  1966            \n",
      "648       Sasha Putrya  1977  1989   Ukrainian\n",
      "649        Patrick Pye                        \n",
      "650        Jacob Pynas                        \n",
      "651          Jan Pynas                        \n",
      "\n",
      "[652 rows x 4 columns]\n"
     ]
    }
   ],
   "source": [
    "# IV.In thong tin ra file excel\n",
    "print(d)\n",
    "#dat ten file excel\n",
    "file_name = \"Painters3.xlsx\"\n",
    "#saving the excel\n",
    "d.to_excel(file_name)\n",
    "# print('DataFrame is written to Excel File successfully.')"
   ]
  }
 ],
 "metadata": {
  "kernelspec": {
   "display_name": "Python 3",
   "language": "python",
   "name": "python3"
  },
  "language_info": {
   "codemirror_mode": {
    "name": "ipython",
    "version": 3
   },
   "file_extension": ".py",
   "mimetype": "text/x-python",
   "name": "python",
   "nbconvert_exporter": "python",
   "pygments_lexer": "ipython3",
   "version": "3.10.7"
  }
 },
 "nbformat": 4,
 "nbformat_minor": 2
}
