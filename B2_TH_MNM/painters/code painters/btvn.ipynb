{
 "cells": [
  {
   "cell_type": "code",
   "execution_count": 1,
   "metadata": {},
   "outputs": [],
   "source": [
    "from selenium import webdriver\n",
    "from selenium.webdriver.common.by import By\n",
    "from selenium.webdriver.chrome.options import Options\n",
    "import time\n",
    "import pandas as pd\n",
    "import re"
   ]
  },
  {
   "cell_type": "code",
   "execution_count": 2,
   "metadata": {},
   "outputs": [],
   "source": [
    "# I.tao dataframe rong va noi chua link\n",
    "all_links =[] \n",
    "d =pd.DataFrame({'name': [], 'birth': [], 'death': [], 'nationality': []})"
   ]
  },
  {
   "cell_type": "code",
   "execution_count": 3,
   "metadata": {},
   "outputs": [],
   "source": [
    "# Tạo tùy chọn để chạy trình duyệt ở chế độ ẩn (headless)\n",
    "chrome_options = Options()\n",
    "chrome_options.add_argument(\"--headless=new\")  # Chạy trình duyệt mà không hiển thị giao diện (cách mới cho Chrome 109+)\n",
    "chrome_options.add_argument(\"--disable-gpu\")  # Tắt GPU (để an toàn)\n",
    "chrome_options.add_argument(\"--no-sandbox\")  # Bỏ qua sandbox\n",
    "chrome_options.add_argument(\"--disable-dev-shm-usage\")  # Giảm thiểu bộ nhớ được chia sẻ để tránh lỗi\n",
    "chrome_options.add_argument(\"--log-level=3\")  # Giảm thiểu log output từ trình duyệt\n",
    "chrome_options.add_argument(\"--window-size=1920x1080\")  # Đặt kích thước cửa sổ để tránh lỗi hiển thị"
   ]
  },
  {
   "cell_type": "code",
   "execution_count": 4,
   "metadata": {},
   "outputs": [
    {
     "name": "stdout",
     "output_type": "stream",
     "text": [
      "Error!!\n"
     ]
    }
   ],
   "source": [
    "# II.lay tat ca duong dan de truy cap den painter\n",
    "for i in range(65, 69):\n",
    "    driver = webdriver.Chrome(options=chrome_options)\n",
    "    url = \"https://en.wikipedia.org/wiki/List_of_painters_by_name_beginning_with_%22\"+chr(i)+\"%22\"\n",
    "    # #mo trang web\n",
    "    # driver.get(url)\n",
    "    try:\n",
    "        #mo trang web\n",
    "        driver.get(url)\n",
    "        #doi khoang chung 3s\n",
    "        time.sleep(3)\n",
    "        #lay ra tat ca the ul\n",
    "        ul_tags = driver.find_elements(By.TAG_NAME, \"ul\")\n",
    "        #print(len(ul_tags))\n",
    "        #chon ul thu 21\n",
    "        ul_painters = ul_tags[20] #dem tu 0\n",
    "        #lay tat ca the <li> thuoc ul_painters\n",
    "        li_tags = ul_painters.find_elements(By.TAG_NAME, \"li\")\n",
    "        # #tao danh sach cac url\n",
    "        links = [tag.find_element(By.TAG_NAME,\"a\").get_attribute(\"href\") for tag in li_tags]\n",
    "        for x in links:\n",
    "            all_links.append(x)\n",
    "        #tao danh sach cac title\n",
    "        # titles = [tag.find_element(By.TAG_NAME,\"a\").get_attribute(\"title\") for tag in li_tags]\n",
    "\n",
    "        # #in ra danh sach\n",
    "        # for link in links:\n",
    "        #     print(link)\n",
    "\n",
    "        #in ra danh sach\n",
    "        # for title in titles:\n",
    "        #     print(title)\n",
    "    except:\n",
    "        print(\"Error!!\")\n",
    "    #tat man hinh\n",
    "    driver.quit()"
   ]
  },
  {
   "cell_type": "code",
   "execution_count": 5,
   "metadata": {},
   "outputs": [
    {
     "name": "stdout",
     "output_type": "stream",
     "text": [
      "Error!!!!!!!!!!!!!!!\n",
      "Error!!!!!!!!!!!!!!!\n"
     ]
    }
   ],
   "source": [
    "# III.Lay thong tin cua hoa si\n",
    "count = 0\n",
    "for link in all_links:\n",
    "    # if(count > 2):\n",
    "    #     break\n",
    "    # count += 1\n",
    "    #print(link)\n",
    "    try:\n",
    "        #khoi tao webdriver\n",
    "        driver = webdriver.Chrome(options=chrome_options)\n",
    "\n",
    "        #mo trang\n",
    "        url = link\n",
    "        driver.get(url)\n",
    "\n",
    "        #doi 2s\n",
    "        time.sleep(2)\n",
    "\n",
    "        #lay ten hoa si\n",
    "        try:\n",
    "            name = driver.find_element(By.TAG_NAME, \"h1\").text\n",
    "        except:\n",
    "            name = \"\"\n",
    "\n",
    "\n",
    "        #lay ngay sinh hoa si\n",
    "        try:\n",
    "            birth_element = driver.find_element(By.XPATH, \"//th[text()='Born']/following-sibling::td\")\n",
    "            birth = re.findall(r'\\d{1,2} [A-Za-z]+ \\d{4}|\\d{4}', birth_element.text)[0]\n",
    "        except:\n",
    "            birth = \"\"\n",
    "\n",
    "        #lay ngay mat hoa si\n",
    "        try:\n",
    "            death_element = driver.find_element(By.XPATH, \"//th[text()='Died']/following-sibling::td\")\n",
    "            death = re.findall(r'\\d{1,2} [A-Za-z]+ \\d{4}|\\d{4}', death_element.text)[0]\n",
    "        except:\n",
    "            death = \"\"\n",
    "\n",
    "        #lay quoc tich hoa si\n",
    "        try:\n",
    "            nationality_element = driver.find_element(By.XPATH, \"//th[text()='Nationality']/following-sibling::td\")\n",
    "            nationality = nationality_element.text\n",
    "        except:\n",
    "            nationality = \"\"\n",
    "\n",
    "        #tao dictionary thong tin hoa si\n",
    "        painter = {'name': name, 'birth': birth, 'death': death, 'nationality': nationality}\n",
    "        #chuyen doi dictionary thanh dataframe\n",
    "        painter_df = pd.DataFrame([painter])\n",
    "        #them thong tin vao df chinh\n",
    "        d = pd.concat([d, painter_df], ignore_index=True)\n",
    "        #dong web\n",
    "        driver.quit()\n",
    "    except:\n",
    "        print(\"Error!!!!!!!!!!!!!!!\")"
   ]
  },
  {
   "cell_type": "code",
   "execution_count": 6,
   "metadata": {},
   "outputs": [
    {
     "name": "stdout",
     "output_type": "stream",
     "text": [
      "                         name          birth            death  \\\n",
      "0                   Herb Aach           1923             1985   \n",
      "1             Hans von Aachen                                   \n",
      "2                 Pacita Abad           1946             2004   \n",
      "3            Vilmos Aba-Novák                                   \n",
      "4                 Reza Abbasi           1565             1635   \n",
      "..                        ...            ...              ...   \n",
      "627  Willem Cornelisz Duyster                                   \n",
      "628             Geoffrey Dyer                                   \n",
      "629          Anthony van Dyck  22 March 1599  9 December 1641   \n",
      "630           Floris van Dyck                                   \n",
      "631            Friedel Dzubas           1915             1994   \n",
      "\n",
      "            nationality  \n",
      "0              American  \n",
      "1                        \n",
      "2    Filipino, American  \n",
      "3                        \n",
      "4                        \n",
      "..                  ...  \n",
      "627                      \n",
      "628                      \n",
      "629             Flemish  \n",
      "630                      \n",
      "631            American  \n",
      "\n",
      "[632 rows x 4 columns]\n"
     ]
    }
   ],
   "source": [
    "# IV.In thong tin ra file excel\n",
    "print(d)\n",
    "#dat ten file excel\n",
    "file_name = \"Painters.xlsx\"\n",
    "#saving the excel\n",
    "d.to_excel(file_name)\n",
    "# print('DataFrame is written to Excel File successfully.')"
   ]
  }
 ],
 "metadata": {
  "kernelspec": {
   "display_name": "Python 3",
   "language": "python",
   "name": "python3"
  },
  "language_info": {
   "codemirror_mode": {
    "name": "ipython",
    "version": 3
   },
   "file_extension": ".py",
   "mimetype": "text/x-python",
   "name": "python",
   "nbconvert_exporter": "python",
   "pygments_lexer": "ipython3",
   "version": "3.10.7"
  }
 },
 "nbformat": 4,
 "nbformat_minor": 2
}
