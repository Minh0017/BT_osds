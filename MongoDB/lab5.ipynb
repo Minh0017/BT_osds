{
 "cells": [
  {
   "cell_type": "code",
   "execution_count": 2,
   "metadata": {},
   "outputs": [],
   "source": [
    "from pymongo import MongoClient\n",
    "from datetime import datetime"
   ]
  },
  {
   "cell_type": "code",
   "execution_count": 3,
   "metadata": {},
   "outputs": [],
   "source": [
    "#b1 conntct db\n",
    "client = MongoClient('mongodb://localhost:27017/')\n",
    "client.drop_database(\"facebookData1\")\n",
    "db = client['facebookData1'] #chon csdl tiktok"
   ]
  },
  {
   "cell_type": "code",
   "execution_count": 4,
   "metadata": {},
   "outputs": [],
   "source": [
    "users_collection = db['users']\n",
    "posts_collection = db['posts']\n",
    "comments_collection = db['comments']\n"
   ]
  },
  {
   "cell_type": "code",
   "execution_count": 5,
   "metadata": {},
   "outputs": [
    {
     "data": {
      "text/plain": [
       "InsertManyResult([ObjectId('6716fd109eb67716a45fe1d7'), ObjectId('6716fd109eb67716a45fe1d8'), ObjectId('6716fd109eb67716a45fe1d9')], acknowledged=True)"
      ]
     },
     "execution_count": 5,
     "metadata": {},
     "output_type": "execute_result"
    }
   ],
   "source": [
    "users_data= [\n",
    "    { 'user_id': 1, 'name': \"Nguyen Van A\", 'name': \"a@gmail.com\", 'age': 25 },\n",
    "    { 'user_id': 2, 'name': \"Tran Thi B\", 'name': \"b@gmail.com\", 'age': 30 },\n",
    "    { 'user_id': 3, 'name': \"Le Van C\", 'name': \"c@gmail.com\", 'age': 22 }\n",
    "]\n",
    "users_collection.insert_many(users_data)"
   ]
  },
  {
   "cell_type": "code",
   "execution_count": 6,
   "metadata": {},
   "outputs": [
    {
     "data": {
      "text/plain": [
       "InsertManyResult([ObjectId('6716fd109eb67716a45fe1da'), ObjectId('6716fd109eb67716a45fe1db'), ObjectId('6716fd109eb67716a45fe1dc')], acknowledged=True)"
      ]
     },
     "execution_count": 6,
     "metadata": {},
     "output_type": "execute_result"
    }
   ],
   "source": [
    "posts_data= [\n",
    "    { 'post_id': 1, 'user_id': 1, 'content': \"Hôm nay thật đẹp trời!\", 'created_at': datetime(2024,10,1) },\n",
    "    { 'post_id': 2, 'user_id': 2, 'content': \"Mình vừa xem một bộ phim hay!\", 'created_at': datetime(2024,10,2) },\n",
    "    { 'post_id': 3, 'user_id': 3, 'content' :\"Chúc mọi người một ngày tốt lành!\", 'created_at': datetime(2024,10,3) }\n",
    "]\n",
    "posts_collection.insert_many(posts_data)"
   ]
  },
  {
   "cell_type": "code",
   "execution_count": null,
   "metadata": {},
   "outputs": [
    {
     "data": {
      "text/plain": [
       "InsertManyResult([ObjectId('6716fd109eb67716a45fe1dd'), ObjectId('6716fd109eb67716a45fe1de'), ObjectId('6716fd109eb67716a45fe1df')], acknowledged=True)"
      ]
     },
     "execution_count": 7,
     "metadata": {},
     "output_type": "execute_result"
    }
   ],
   "source": [
    "comments_data=[\n",
    "    { 'comment_id': 1, 'post_id': 1, 'user_id': 2, 'content': \"Thật tuyệt vời!\", 'created_at': datetime(2024,10,1) },\n",
    "    { 'comment_id': 2, 'post_id': 2, 'user_id': 3, 'content': \"Mình cũng muốn xem bộ phim này!\", 'created_at': datetime(2024,10,2) },\n",
    "    { 'comment_id': 3, 'post_id': 3, 'user_id': 1, 'content': \"Cảm ơn bạn!\", 'created_at': datetime(2024,10,3) }\n",
    "]\n",
    "comments_collection.insert_many(comments_data)"
   ]
  },
  {
   "cell_type": "code",
   "execution_count": 8,
   "metadata": {},
   "outputs": [
    {
     "name": "stdout",
     "output_type": "stream",
     "text": [
      "{'_id': ObjectId('6716fd109eb67716a45fe1d7'), 'user_id': 1, 'name': 'a@gmail.com', 'age': 25}\n",
      "{'_id': ObjectId('6716fd109eb67716a45fe1d8'), 'user_id': 2, 'name': 'b@gmail.com', 'age': 30}\n",
      "{'_id': ObjectId('6716fd109eb67716a45fe1d9'), 'user_id': 3, 'name': 'c@gmail.com', 'age': 22}\n"
     ]
    }
   ],
   "source": [
    "user_ = users_collection.find()\n",
    "for users in user_:\n",
    "    print(users)\n"
   ]
  },
  {
   "cell_type": "code",
   "execution_count": 9,
   "metadata": {},
   "outputs": [
    {
     "name": "stdout",
     "output_type": "stream",
     "text": [
      "{'_id': ObjectId('6716fd109eb67716a45fe1dd'), 'comment_id': 1, 'post_id': 1, 'user_id': 2, 'content': 'Thật tuyệt vời!', 'created_at': datetime.datetime(2024, 10, 1, 0, 0)}\n"
     ]
    }
   ],
   "source": [
    "com = comments_collection.find({ 'post_id': 1 })\n",
    "for cm in com:\n",
    "    print(cm)"
   ]
  },
  {
   "cell_type": "code",
   "execution_count": 10,
   "metadata": {},
   "outputs": [
    {
     "name": "stdout",
     "output_type": "stream",
     "text": [
      "{'_id': ObjectId('6716fd109eb67716a45fe1d8'), 'user_id': 2, 'name': 'b@gmail.com', 'age': 30}\n"
     ]
    }
   ],
   "source": [
    "uss= users_collection.find({'age': {'$gt': 25 } })\n",
    "for us in uss:\n",
    "    print(us)"
   ]
  },
  {
   "cell_type": "code",
   "execution_count": 11,
   "metadata": {},
   "outputs": [
    {
     "name": "stdout",
     "output_type": "stream",
     "text": [
      "{'_id': ObjectId('6716fd109eb67716a45fe1da'), 'post_id': 1, 'user_id': 1, 'content': 'Hôm nay thật đẹp trời!', 'created_at': datetime.datetime(2024, 10, 1, 0, 0)}\n",
      "{'_id': ObjectId('6716fd109eb67716a45fe1db'), 'post_id': 2, 'user_id': 2, 'content': 'Mình vừa xem một bộ phim hay!', 'created_at': datetime.datetime(2024, 10, 2, 0, 0)}\n",
      "{'_id': ObjectId('6716fd109eb67716a45fe1dc'), 'post_id': 3, 'user_id': 3, 'content': 'Chúc mọi người một ngày tốt lành!', 'created_at': datetime.datetime(2024, 10, 3, 0, 0)}\n"
     ]
    }
   ],
   "source": [
    "post= posts_collection.find({'created_at': {'$gte': datetime(2024,10,1), '$lt': datetime(2024,11,1) } })\n",
    "for ps in post:\n",
    "    print(ps)\n"
   ]
  },
  {
   "cell_type": "code",
   "execution_count": 12,
   "metadata": {},
   "outputs": [
    {
     "name": "stdout",
     "output_type": "stream",
     "text": [
      "{'_id': ObjectId('6716fd109eb67716a45fe1da'), 'post_id': 1, 'user_id': 1, 'content': 'Hôm nay thời tiết thật đẹp!', 'created_at': datetime.datetime(2024, 10, 1, 0, 0)}\n",
      "{'_id': ObjectId('6716fd109eb67716a45fe1db'), 'post_id': 2, 'user_id': 2, 'content': 'Mình vừa xem một bộ phim hay!', 'created_at': datetime.datetime(2024, 10, 2, 0, 0)}\n",
      "{'_id': ObjectId('6716fd109eb67716a45fe1dc'), 'post_id': 3, 'user_id': 3, 'content': 'Chúc mọi người một ngày tốt lành!', 'created_at': datetime.datetime(2024, 10, 3, 0, 0)}\n"
     ]
    }
   ],
   "source": [
    "posts_collection.update_one({ 'post_id': 1 }, { '$set': { 'content': \"Hôm nay thời tiết thật đẹp!\" } })\n",
    "for poss in posts_collection.find():\n",
    "    print(poss)"
   ]
  },
  {
   "cell_type": "code",
   "execution_count": 13,
   "metadata": {},
   "outputs": [
    {
     "name": "stdout",
     "output_type": "stream",
     "text": [
      "{'_id': ObjectId('6716fd109eb67716a45fe1dd'), 'comment_id': 1, 'post_id': 1, 'user_id': 2, 'content': 'Thật tuyệt vời!', 'created_at': datetime.datetime(2024, 10, 1, 0, 0)}\n",
      "{'_id': ObjectId('6716fd109eb67716a45fe1df'), 'comment_id': 3, 'post_id': 3, 'user_id': 1, 'content': 'Cảm ơn bạn!', 'created_at': datetime.datetime(2024, 10, 3, 0, 0)}\n"
     ]
    }
   ],
   "source": [
    "comments_collection.delete_one({'comment_id': 2 })\n",
    "for cmmmmm in comments_collection.find():\n",
    "    print(cmmmmm)"
   ]
  },
  {
   "cell_type": "code",
   "execution_count": 14,
   "metadata": {},
   "outputs": [],
   "source": [
    "client.close()"
   ]
  }
 ],
 "metadata": {
  "kernelspec": {
   "display_name": "Python 3",
   "language": "python",
   "name": "python3"
  },
  "language_info": {
   "codemirror_mode": {
    "name": "ipython",
    "version": 3
   },
   "file_extension": ".py",
   "mimetype": "text/x-python",
   "name": "python",
   "nbconvert_exporter": "python",
   "pygments_lexer": "ipython3",
   "version": "3.12.6"
  }
 },
 "nbformat": 4,
 "nbformat_minor": 2
}
