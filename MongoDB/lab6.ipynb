{
 "cells": [
  {
   "cell_type": "code",
   "execution_count": 39,
   "metadata": {},
   "outputs": [],
   "source": [
    "from pymongo import MongoClient\n",
    "from datetime import datetime"
   ]
  },
  {
   "cell_type": "code",
   "execution_count": 40,
   "metadata": {},
   "outputs": [],
   "source": [
    "#b1 conntct db\n",
    "client = MongoClient('mongodb://localhost:27017/')\n",
    "client.drop_database(\"driveManagement\")\n",
    "db = client['driveManagement'] #chon csdl tiktok"
   ]
  },
  {
   "cell_type": "code",
   "execution_count": 41,
   "metadata": {},
   "outputs": [],
   "source": [
    "files_collection=db['files']"
   ]
  },
  {
   "cell_type": "code",
   "execution_count": 42,
   "metadata": {},
   "outputs": [
    {
     "data": {
      "text/plain": [
       "InsertManyResult([ObjectId('670de7e8141db49b37833094'), ObjectId('670de7e8141db49b37833095'), ObjectId('670de7e8141db49b37833096'), ObjectId('670de7e8141db49b37833097'), ObjectId('670de7e8141db49b37833098')], acknowledged=True)"
      ]
     },
     "execution_count": 42,
     "metadata": {},
     "output_type": "execute_result"
    }
   ],
   "source": [
    "files_data = [\n",
    "    { 'file_id': 1, 'name': 'Report.pdf', 'size': 2048, 'owner': 'Nguyen Van A', 'created_at': datetime(2024, 1, 10), 'shared': False },\n",
    "    { 'file_id': 2, 'name': 'Presentation.pptx', 'size': 5120, 'owner': 'Tran Thi B', 'created_at': datetime(2024, 1, 15), 'shared': True },\n",
    "    { 'file_id': 3, 'name': 'Image.png', 'size': 1024, 'owner': 'Le Van C', 'created_at': datetime(2024, 1, 20), 'shared': False },\n",
    "    { 'file_id': 4, 'name': 'Spreadsheet.xlsx', 'size': 3072, 'owner': 'Pham Van D', 'created_at': datetime(2024, 1, 25), 'shared': True },\n",
    "    { 'file_id': 5, 'name': 'Notes.txt', 'size': 512, 'owner': 'Nguyen Thi E', 'created_at': datetime(2024, 1, 30), 'shared': False }\n",
    "\n",
    "]\n",
    "files_collection.insert_many(files_data)\n"
   ]
  },
  {
   "cell_type": "code",
   "execution_count": 43,
   "metadata": {},
   "outputs": [
    {
     "name": "stdout",
     "output_type": "stream",
     "text": [
      "{'_id': ObjectId('670de7e8141db49b37833094'), 'file_id': 1, 'name': 'Report.pdf', 'size': 2048, 'owner': 'Nguyen Van A', 'created_at': datetime.datetime(2024, 1, 10, 0, 0), 'shared': False}\n",
      "{'_id': ObjectId('670de7e8141db49b37833095'), 'file_id': 2, 'name': 'Presentation.pptx', 'size': 5120, 'owner': 'Tran Thi B', 'created_at': datetime.datetime(2024, 1, 15, 0, 0), 'shared': True}\n",
      "{'_id': ObjectId('670de7e8141db49b37833096'), 'file_id': 3, 'name': 'Image.png', 'size': 1024, 'owner': 'Le Van C', 'created_at': datetime.datetime(2024, 1, 20, 0, 0), 'shared': False}\n",
      "{'_id': ObjectId('670de7e8141db49b37833097'), 'file_id': 4, 'name': 'Spreadsheet.xlsx', 'size': 3072, 'owner': 'Pham Van D', 'created_at': datetime.datetime(2024, 1, 25, 0, 0), 'shared': True}\n",
      "{'_id': ObjectId('670de7e8141db49b37833098'), 'file_id': 5, 'name': 'Notes.txt', 'size': 512, 'owner': 'Nguyen Thi E', 'created_at': datetime.datetime(2024, 1, 30, 0, 0), 'shared': False}\n"
     ]
    }
   ],
   "source": [
    "files_collection.find()\n",
    "for fl in files_collection.find():\n",
    "    print(fl)"
   ]
  },
  {
   "cell_type": "code",
   "execution_count": 44,
   "metadata": {},
   "outputs": [
    {
     "name": "stdout",
     "output_type": "stream",
     "text": [
      "{'_id': ObjectId('670de7e8141db49b37833094'), 'file_id': 1, 'name': 'Report.pdf', 'size': 2048, 'owner': 'Nguyen Van A', 'created_at': datetime.datetime(2024, 1, 10, 0, 0), 'shared': False}\n",
      "{'_id': ObjectId('670de7e8141db49b37833095'), 'file_id': 2, 'name': 'Presentation.pptx', 'size': 5120, 'owner': 'Tran Thi B', 'created_at': datetime.datetime(2024, 1, 15, 0, 0), 'shared': True}\n",
      "{'_id': ObjectId('670de7e8141db49b37833097'), 'file_id': 4, 'name': 'Spreadsheet.xlsx', 'size': 3072, 'owner': 'Pham Van D', 'created_at': datetime.datetime(2024, 1, 25, 0, 0), 'shared': True}\n"
     ]
    }
   ],
   "source": [
    "sz=files_collection.find({ 'size': { '$gt': 2000 } })\n",
    "for fl1 in sz:\n",
    "    print(fl1)"
   ]
  },
  {
   "cell_type": "code",
   "execution_count": 45,
   "metadata": {},
   "outputs": [
    {
     "name": "stdout",
     "output_type": "stream",
     "text": [
      "5\n"
     ]
    }
   ],
   "source": [
    "dem = files_collection.count_documents({})\n",
    "print(dem)"
   ]
  },
  {
   "cell_type": "code",
   "execution_count": 46,
   "metadata": {},
   "outputs": [
    {
     "name": "stdout",
     "output_type": "stream",
     "text": [
      "{'_id': ObjectId('670de7e8141db49b37833095'), 'file_id': 2, 'name': 'Presentation.pptx', 'size': 5120, 'owner': 'Tran Thi B', 'created_at': datetime.datetime(2024, 1, 15, 0, 0), 'shared': True}\n",
      "{'_id': ObjectId('670de7e8141db49b37833097'), 'file_id': 4, 'name': 'Spreadsheet.xlsx', 'size': 3072, 'owner': 'Pham Van D', 'created_at': datetime.datetime(2024, 1, 25, 0, 0), 'shared': True}\n"
     ]
    }
   ],
   "source": [
    "for sh in files_collection.find({'shared': True}):\n",
    "    print(sh)"
   ]
  },
  {
   "cell_type": "code",
   "execution_count": 47,
   "metadata": {},
   "outputs": [
    {
     "name": "stdout",
     "output_type": "stream",
     "text": [
      "{'_id': 'Tran Thi B', 'count': 1}\n",
      "{'_id': 'Le Van C', 'count': 1}\n",
      "{'_id': 'Nguyen Van A', 'count': 1}\n",
      "{'_id': 'Pham Van D', 'count': 1}\n",
      "{'_id': 'Nguyen Thi E', 'count': 1}\n"
     ]
    }
   ],
   "source": [
    "for gr in files_collection.aggregate([\n",
    "    { '$group': { '_id': \"$owner\", 'count': { '$sum': 1 } } }\n",
    "]):\n",
    "    print(gr)"
   ]
  },
  {
   "cell_type": "code",
   "execution_count": 48,
   "metadata": {},
   "outputs": [
    {
     "data": {
      "text/plain": [
       "UpdateResult({'n': 1, 'nModified': 1, 'ok': 1.0, 'updatedExisting': True}, acknowledged=True)"
      ]
     },
     "execution_count": 48,
     "metadata": {},
     "output_type": "execute_result"
    }
   ],
   "source": [
    "files_collection.update_one({ 'file_id': 1 }, { '$set': { 'shared': True } })"
   ]
  },
  {
   "cell_type": "code",
   "execution_count": 49,
   "metadata": {},
   "outputs": [
    {
     "data": {
      "text/plain": [
       "DeleteResult({'n': 1, 'ok': 1.0}, acknowledged=True)"
      ]
     },
     "execution_count": 49,
     "metadata": {},
     "output_type": "execute_result"
    }
   ],
   "source": [
    "files_collection.delete_one({ 'file_id': 3 })"
   ]
  },
  {
   "cell_type": "code",
   "execution_count": 55,
   "metadata": {},
   "outputs": [
    {
     "name": "stdout",
     "output_type": "stream",
     "text": [
      "{'_id': ObjectId('670de7e8141db49b37833094'), 'file_id': 1, 'name': 'Report.pdf', 'size': 2048, 'owner': 'Nguyen Van A', 'created_at': datetime.datetime(2024, 1, 10, 0, 0), 'shared': True}\n"
     ]
    }
   ],
   "source": [
    "for all in files_collection.find({ 'owner': \"Nguyen Van A\" }):\n",
    "    print(all)"
   ]
  },
  {
   "cell_type": "code",
   "execution_count": 56,
   "metadata": {},
   "outputs": [
    {
     "name": "stdout",
     "output_type": "stream",
     "text": [
      "{'_id': ObjectId('670de7e8141db49b37833095'), 'file_id': 2, 'name': 'Presentation.pptx', 'size': 5120, 'owner': 'Tran Thi B', 'created_at': datetime.datetime(2024, 1, 15, 0, 0), 'shared': True}\n"
     ]
    }
   ],
   "source": [
    "for max in files_collection.find().sort({ 'size': -1 }).limit(1):\n",
    "    print(max)\n"
   ]
  },
  {
   "cell_type": "code",
   "execution_count": 61,
   "metadata": {},
   "outputs": [
    {
     "name": "stdout",
     "output_type": "stream",
     "text": [
      "1\n"
     ]
    }
   ],
   "source": [
    "fmax = files_collection.count_documents({ 'size': {'$lt': 1000 } })\n",
    "print(fmax)"
   ]
  },
  {
   "cell_type": "code",
   "execution_count": 63,
   "metadata": {},
   "outputs": [
    {
     "name": "stdout",
     "output_type": "stream",
     "text": [
      "{'_id': ObjectId('670de7e8141db49b37833094'), 'file_id': 1, 'name': 'Report.pdf', 'size': 2048, 'owner': 'Nguyen Van A', 'created_at': datetime.datetime(2024, 1, 10, 0, 0), 'shared': True}\n",
      "{'_id': ObjectId('670de7e8141db49b37833095'), 'file_id': 2, 'name': 'Presentation.pptx', 'size': 5120, 'owner': 'Tran Thi B', 'created_at': datetime.datetime(2024, 1, 15, 0, 0), 'shared': True}\n",
      "{'_id': ObjectId('670de7e8141db49b37833097'), 'file_id': 4, 'name': 'Spreadsheet.xlsx', 'size': 3072, 'owner': 'Pham Van D', 'created_at': datetime.datetime(2024, 1, 25, 0, 0), 'shared': True}\n",
      "{'_id': ObjectId('670de7e8141db49b37833098'), 'file_id': 5, 'name': 'Notes.txt', 'size': 512, 'owner': 'Nguyen Thi E', 'created_at': datetime.datetime(2024, 1, 30, 0, 0), 'shared': False}\n"
     ]
    }
   ],
   "source": [
    "for allfile in files_collection.find({\n",
    "    'created_at': {\n",
    "        '$gte': datetime(2024,1,1),\n",
    "        '$lt': datetime(2024,2,1)\n",
    "    }\n",
    "}):\n",
    "    print(allfile)"
   ]
  },
  {
   "cell_type": "code",
   "execution_count": 64,
   "metadata": {},
   "outputs": [
    {
     "data": {
      "text/plain": [
       "UpdateResult({'n': 1, 'nModified': 1, 'ok': 1.0, 'updatedExisting': True}, acknowledged=True)"
      ]
     },
     "execution_count": 64,
     "metadata": {},
     "output_type": "execute_result"
    }
   ],
   "source": [
    "files_collection.update_one({ 'file_id': 4 }, { '$set': { 'name': \"New Spreadsheet.xlsx\" } })\n"
   ]
  },
  {
   "cell_type": "code",
   "execution_count": 65,
   "metadata": {},
   "outputs": [
    {
     "data": {
      "text/plain": [
       "DeleteResult({'n': 1, 'ok': 1.0}, acknowledged=True)"
      ]
     },
     "execution_count": 65,
     "metadata": {},
     "output_type": "execute_result"
    }
   ],
   "source": [
    "files_collection.delete_many({ 'size': { '$lt': 1000 } })"
   ]
  },
  {
   "cell_type": "code",
   "execution_count": 66,
   "metadata": {},
   "outputs": [],
   "source": [
    "client.close()"
   ]
  }
 ],
 "metadata": {
  "kernelspec": {
   "display_name": "Python 3",
   "language": "python",
   "name": "python3"
  },
  "language_info": {
   "codemirror_mode": {
    "name": "ipython",
    "version": 3
   },
   "file_extension": ".py",
   "mimetype": "text/x-python",
   "name": "python",
   "nbconvert_exporter": "python",
   "pygments_lexer": "ipython3",
   "version": "3.10.7"
  }
 },
 "nbformat": 4,
 "nbformat_minor": 2
}
