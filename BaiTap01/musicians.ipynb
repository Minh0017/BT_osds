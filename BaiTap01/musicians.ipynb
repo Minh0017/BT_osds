{
 "cells": [
  {
   "cell_type": "markdown",
   "metadata": {},
   "source": [
    "### import thư viện"
   ]
  },
  {
   "cell_type": "code",
   "execution_count": 69,
   "metadata": {},
   "outputs": [],
   "source": [
    "from selenium import webdriver\n",
    "from selenium.webdriver.common.by import By\n",
    "from selenium.webdriver.chrome.options import Options\n",
    "from time import sleep\n",
    "import pandas as pd\n",
    "import re"
   ]
  },
  {
   "cell_type": "markdown",
   "metadata": {},
   "source": [
    "### creat empty link"
   ]
  },
  {
   "cell_type": "code",
   "execution_count": 70,
   "metadata": {},
   "outputs": [],
   "source": [
    "all_links =[] \n",
    "musician_links=[]"
   ]
  },
  {
   "cell_type": "code",
   "execution_count": 72,
   "metadata": {},
   "outputs": [],
   "source": [
    "# url\n",
    "driver = webdriver.Chrome()\n",
    "url = \"https://en.wikipedia.org/wiki/Lists_of_musicians#A\"\n",
    "    \n",
    "try:\n",
    "        #mo trang web\n",
    "        driver.get(url)\n",
    "        #doi khoang chung 3s\n",
    "        sleep(3)\n",
    "        #lay ra tat ca the ul\n",
    "        ul_tags = driver.find_elements(By.TAG_NAME, \"ul\")\n",
    "        #chon ul thu 22\n",
    "        ul_painters = ul_tags[21] #dem tu 0\n",
    "        #lay tat ca the <li> thuoc ul_painters\n",
    "        li_tags = ul_painters.find_elements(By.TAG_NAME, \"li\")\n",
    "        # #tao danh sach cac url\n",
    "        links = [tag.find_element(By.TAG_NAME,\"a\").get_attribute(\"href\") for tag in li_tags]\n",
    "        for x in links:\n",
    "            all_links.append(x)\n",
    "        #tao danh sach cac title\n",
    "        titles = [tag.find_element(By.XPATH, \"//div[contains(@class,'div-col')]\").get_attribute(\"title\") for tag in li_tags]\n",
    "except:\n",
    "        print(\"Error!\")\n",
    "#tat man hinh\n",
    "driver.quit()\n",
    "\n"
   ]
  },
  {
   "cell_type": "markdown",
   "metadata": {},
   "source": [
    "### kiem tra (UL) and (links)"
   ]
  },
  {
   "cell_type": "code",
   "execution_count": 73,
   "metadata": {},
   "outputs": [
    {
     "name": "stdout",
     "output_type": "stream",
     "text": [
      "141\n"
     ]
    },
    {
     "data": {
      "text/plain": [
       "10"
      ]
     },
     "execution_count": 73,
     "metadata": {},
     "output_type": "execute_result"
    }
   ],
   "source": [
    "print(len(ul_tags))\n",
    "len(links)"
   ]
  },
  {
   "cell_type": "markdown",
   "metadata": {},
   "source": [
    "### link cac nhac si bat dau bang \"List of\""
   ]
  },
  {
   "cell_type": "code",
   "execution_count": 74,
   "metadata": {},
   "outputs": [
    {
     "data": {
      "text/plain": [
       "['https://en.wikipedia.org/wiki/List_of_acid_rock_artists',\n",
       " 'https://en.wikipedia.org/wiki/List_of_adult_alternative_artists',\n",
       " 'https://en.wikipedia.org/wiki/List_of_alternative_country_musicians',\n",
       " 'https://en.wikipedia.org/wiki/List_of_alternative_hip_hop_artists',\n",
       " 'https://en.wikipedia.org/wiki/List_of_alternative_metal_artists',\n",
       " 'https://en.wikipedia.org/wiki/List_of_alternative_rock_artists',\n",
       " 'https://en.wikipedia.org/wiki/List_of_ambient_music_artists',\n",
       " 'https://en.wikipedia.org/wiki/List_of_anarcho-punk_bands',\n",
       " 'https://en.wikipedia.org/wiki/List_of_Arabic_pop_musicians',\n",
       " 'https://en.wikipedia.org/wiki/List_of_avant-garde_metal_artists']"
      ]
     },
     "execution_count": 74,
     "metadata": {},
     "output_type": "execute_result"
    }
   ],
   "source": [
    "links"
   ]
  },
  {
   "cell_type": "markdown",
   "metadata": {},
   "source": [
    "### truy cập vô đường link đầu tiên của all_links"
   ]
  },
  {
   "cell_type": "code",
   "execution_count": 75,
   "metadata": {},
   "outputs": [
    {
     "name": "stdout",
     "output_type": "stream",
     "text": [
      "48\n",
      "40\n"
     ]
    }
   ],
   "source": [
    "artists_driver = webdriver.Chrome()\n",
    "artists_driver.get(all_links[0])\n",
    "\n",
    "sleep(2)\n",
    "try:\n",
    "    #lấy tất cả các the ul của list of acid rock artists\n",
    "    ul_artists_tags = artists_driver.find_elements(By.TAG_NAME, \"ul\")\n",
    "    print(len(ul_artists_tags))\n",
    "\n",
    "    #chọn ul thứ 25\n",
    "    ul_artist = ul_artists_tags[24]\n",
    "    #lấy tất cả link chứa thông tin thuộc artists\n",
    "    li_artist = ul_artist.find_elements(By.TAG_NAME, \"li\")\n",
    "    print(len(li_artist))\n",
    "\n",
    "    # tạo danh sách các url của artist\n",
    "    links_artist = [artist_tag.find_element(By.TAG_NAME,\"a\").get_attribute(\"href\") for artist_tag in li_artist]\n",
    "    for x in links_artist:\n",
    "        musician_links.append(x)\n",
    "except :\n",
    "    print(\"Error!!\")\n",
    "artists_driver.quit()"
   ]
  },
  {
   "cell_type": "code",
   "execution_count": 76,
   "metadata": {},
   "outputs": [
    {
     "data": {
      "text/plain": [
       "['https://en.wikipedia.org/wiki/The_13th_Floor_Elevators',\n",
       " 'https://en.wikipedia.org/wiki/Alice_Cooper_(band)',\n",
       " 'https://en.wikipedia.org/wiki/The_Amboy_Dukes_(band)',\n",
       " 'https://en.wikipedia.org/wiki/Amon_D%C3%BC%C3%BCl',\n",
       " 'https://en.wikipedia.org/wiki/Big_Brother_and_the_Holding_Company',\n",
       " 'https://en.wikipedia.org/wiki/Black_Sabbath',\n",
       " 'https://en.wikipedia.org/wiki/Blue_Cheer',\n",
       " 'https://en.wikipedia.org/wiki/Blues_Magoos',\n",
       " 'https://en.wikipedia.org/wiki/The_Charlatans_(American_band)',\n",
       " 'https://en.wikipedia.org/wiki/Count_Five',\n",
       " 'https://en.wikipedia.org/wiki/Country_Joe_and_the_Fish',\n",
       " 'https://en.wikipedia.org/wiki/Coven_(band)',\n",
       " 'https://en.wikipedia.org/wiki/Cream_(band)',\n",
       " 'https://en.wikipedia.org/wiki/Deep_Purple',\n",
       " 'https://en.wikipedia.org/wiki/The_Deviants_(band)',\n",
       " 'https://en.wikipedia.org/wiki/The_Doors',\n",
       " 'https://en.wikipedia.org/wiki/The_Electric_Prunes',\n",
       " 'https://en.wikipedia.org/wiki/The_Fugs',\n",
       " 'https://en.wikipedia.org/wiki/Grateful_Dead',\n",
       " 'https://en.wikipedia.org/wiki/The_Great_Society_(band)',\n",
       " 'https://en.wikipedia.org/wiki/The_Groundhogs',\n",
       " 'https://en.wikipedia.org/wiki/Hawkwind',\n",
       " 'https://en.wikipedia.org/wiki/Iron_Butterfly',\n",
       " 'https://en.wikipedia.org/wiki/Jefferson_Airplane',\n",
       " 'https://en.wikipedia.org/wiki/The_Jimi_Hendrix_Experience',\n",
       " 'https://en.wikipedia.org/wiki/Janis_Joplin',\n",
       " 'https://en.wikipedia.org/wiki/JPT_Scare_Band',\n",
       " 'https://en.wikipedia.org/wiki/Love_(band)',\n",
       " 'https://en.wikipedia.org/wiki/MC5',\n",
       " 'https://en.wikipedia.org/wiki/Moby_Grape',\n",
       " 'https://en.wikipedia.org/wiki/The_Music_Machine',\n",
       " 'https://en.wikipedia.org/wiki/Pop_Ma%C5%A1ina',\n",
       " 'https://en.wikipedia.org/wiki/Quicksilver_Messenger_Service',\n",
       " 'https://en.wikipedia.org/wiki/Santana_(band)',\n",
       " 'https://en.wikipedia.org/wiki/The_Seeds',\n",
       " 'https://en.wikipedia.org/wiki/Grace_Slick',\n",
       " 'https://en.wikipedia.org/wiki/Steppenwolf_(band)',\n",
       " 'https://en.wikipedia.org/wiki/Tully_(band)',\n",
       " 'https://en.wikipedia.org/wiki/Vanilla_Fudge',\n",
       " 'https://en.wikipedia.org/wiki/Wooden_Shjips']"
      ]
     },
     "execution_count": 76,
     "metadata": {},
     "output_type": "execute_result"
    }
   ],
   "source": [
    "musician_links"
   ]
  },
  {
   "cell_type": "markdown",
   "metadata": {},
   "source": [
    "### creat dataframe"
   ]
  },
  {
   "cell_type": "code",
   "execution_count": 85,
   "metadata": {},
   "outputs": [],
   "source": [
    "d =pd.DataFrame({'name of the band': [], 'year_active': []})"
   ]
  },
  {
   "cell_type": "markdown",
   "metadata": {},
   "source": [
    "### Lay thong tin cua nhac si"
   ]
  },
  {
   "cell_type": "code",
   "execution_count": 86,
   "metadata": {},
   "outputs": [],
   "source": [
    "\n",
    "count = 0\n",
    "for link in musician_links:\n",
    "    # if(count >= 1):\n",
    "    #     break\n",
    "    # count += 1\n",
    "    \n",
    "    try:\n",
    "        #khoi tao webdriver\n",
    "        driver = webdriver.Chrome()\n",
    "        #mo trang\n",
    "        url = link\n",
    "        driver.get(url)\n",
    "        sleep(2)\n",
    "        #lay ten nhac si/ban nhac\n",
    "        try:\n",
    "            name = driver.find_element(By.TAG_NAME, \"h1\").text\n",
    "        except:\n",
    "            name = \"\"\n",
    "\n",
    "        #lay năm hoat dong\n",
    "        try:\n",
    "            year_element = driver.find_element(By.XPATH, value='//span[contains(text(),\"Years active\")]/parent::*/following-sibling::td')\n",
    "            year = year_element.text\n",
    "            \n",
    "        except:\n",
    "            year = \"\"\n",
    "        #tao dictionary thong tin hoa si\n",
    "        painter = {'name of the band': name, 'year_active': year}\n",
    "        #chuyen doi dictionary thanh dataframe\n",
    "        painter_df = pd.DataFrame([painter])\n",
    "        #them thong tin vao df chinh\n",
    "        d = pd.concat([d, painter_df], ignore_index=True)    \n",
    "        driver.quit()\n",
    "\n",
    "    except:\n",
    "        print(\"Error!!!\")\n",
    "        "
   ]
  },
  {
   "cell_type": "markdown",
   "metadata": {},
   "source": [
    "### Excel File successfully"
   ]
  },
  {
   "cell_type": "code",
   "execution_count": 88,
   "metadata": {},
   "outputs": [],
   "source": [
    "#dat ten file excel\n",
    "file_name = \"musicians.xlsx\"\n",
    "#saving the excel\n",
    "d.to_excel(file_name)\n"
   ]
  }
 ],
 "metadata": {
  "kernelspec": {
   "display_name": "Python 3",
   "language": "python",
   "name": "python3"
  },
  "language_info": {
   "codemirror_mode": {
    "name": "ipython",
    "version": 3
   },
   "file_extension": ".py",
   "mimetype": "text/x-python",
   "name": "python",
   "nbconvert_exporter": "python",
   "pygments_lexer": "ipython3",
   "version": "3.10.7"
  }
 },
 "nbformat": 4,
 "nbformat_minor": 2
}
